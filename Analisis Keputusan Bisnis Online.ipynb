{
 "cells": [
  {
   "cell_type": "markdown",
   "metadata": {},
   "source": [
    "# KEPUTUSAN BISNIS TOKO ONLINE\n",
    "\n",
    "Tim pemasaran di sebuah toko online besar telah menyusun daftar hipotesis untuk membantu meningkatkan pendapatan. Analisis kali ini bertujuan untuk memprioritaskan sebuah hipotesis dari daftar hipotesis yang telah disusun dan menjalankan hipotesis tersebut dengan melakukan A/B testing. Data yang digunakan ada tiga, yang pertama dataset yang memuat daftar hipotesisi beserta skala-skala dalam parameter Reach, Impact, Confidence, dan Effort. Sedangkan dataset kedua berisi data pesanan dan dataset ketiga berisi data kunjungan. Kedua dataset tersebut merupakan hasil dari percobaan A/B testing di bulan Agustus 2019.\n"
   ]
  },
  {
   "cell_type": "markdown",
   "metadata": {},
   "source": [
    "## Prioritas Hipotesis\n",
    "Sebelum melakukan A/B Testing, pertama-tama yang dilakukan ialah memprioritaskan hipotesis yang akan diuji. Untuk melakukannya, yang diperlukan hanya menerapkan framework ICE dan RICE. Dengan kedua framework tersebut, dapat diketahui mana hipotesis yang sangat diprioritaskan."
   ]
  },
  {
   "cell_type": "code",
   "execution_count": 1,
   "metadata": {},
   "outputs": [],
   "source": [
    "# import library yang dibutuhkan\n",
    "import pandas as pd\n",
    "import numpy as np\n",
    "import datetime as dt\n",
    "\n",
    "import seaborn as sns\n",
    "import matplotlib.pyplot as plt\n",
    "import scipy.stats as st"
   ]
  },
  {
   "cell_type": "code",
   "execution_count": 2,
   "metadata": {},
   "outputs": [],
   "source": [
    "# memuat dataset\n",
    "try:\n",
    "    hypothesis = pd.read_csv(\n",
    "        r'C:\\Users\\Adam\\OneDrive\\Course\\TripleTen\\Sprint 8\\hypotheses_us.csv', sep=';'\n",
    "    )\n",
    "    \n",
    "except:\n",
    "    hypothesis = pd.read_csv(\n",
    "        '/datasets/hypotheses_us.csv', sep=';'\n",
    "    )"
   ]
  },
  {
   "cell_type": "code",
   "execution_count": 3,
   "metadata": {},
   "outputs": [],
   "source": [
    "pd.set_option(\"display.max_colwidth\", None)"
   ]
  },
  {
   "cell_type": "code",
   "execution_count": 4,
   "metadata": {},
   "outputs": [
    {
     "name": "stdout",
     "output_type": "stream",
     "text": [
      "<class 'pandas.core.frame.DataFrame'>\n",
      "RangeIndex: 9 entries, 0 to 8\n",
      "Data columns (total 5 columns):\n",
      " #   Column      Non-Null Count  Dtype \n",
      "---  ------      --------------  ----- \n",
      " 0   Hypothesis  9 non-null      object\n",
      " 1   Reach       9 non-null      int64 \n",
      " 2   Impact      9 non-null      int64 \n",
      " 3   Confidence  9 non-null      int64 \n",
      " 4   Effort      9 non-null      int64 \n",
      "dtypes: int64(4), object(1)\n",
      "memory usage: 488.0+ bytes\n"
     ]
    },
    {
     "data": {
      "text/html": [
       "<div>\n",
       "<style scoped>\n",
       "    .dataframe tbody tr th:only-of-type {\n",
       "        vertical-align: middle;\n",
       "    }\n",
       "\n",
       "    .dataframe tbody tr th {\n",
       "        vertical-align: top;\n",
       "    }\n",
       "\n",
       "    .dataframe thead th {\n",
       "        text-align: right;\n",
       "    }\n",
       "</style>\n",
       "<table border=\"1\" class=\"dataframe\">\n",
       "  <thead>\n",
       "    <tr style=\"text-align: right;\">\n",
       "      <th></th>\n",
       "      <th>Hypothesis</th>\n",
       "      <th>Reach</th>\n",
       "      <th>Impact</th>\n",
       "      <th>Confidence</th>\n",
       "      <th>Effort</th>\n",
       "    </tr>\n",
       "  </thead>\n",
       "  <tbody>\n",
       "    <tr>\n",
       "      <th>0</th>\n",
       "      <td>Add two new channels for attracting traffic. This will bring 30% more users</td>\n",
       "      <td>3</td>\n",
       "      <td>10</td>\n",
       "      <td>8</td>\n",
       "      <td>6</td>\n",
       "    </tr>\n",
       "    <tr>\n",
       "      <th>1</th>\n",
       "      <td>Launch your own delivery service. This will shorten delivery time</td>\n",
       "      <td>2</td>\n",
       "      <td>5</td>\n",
       "      <td>4</td>\n",
       "      <td>10</td>\n",
       "    </tr>\n",
       "    <tr>\n",
       "      <th>2</th>\n",
       "      <td>Add product recommendation blocks to the store's site. This will increase conversion and average purchase size</td>\n",
       "      <td>8</td>\n",
       "      <td>3</td>\n",
       "      <td>7</td>\n",
       "      <td>3</td>\n",
       "    </tr>\n",
       "    <tr>\n",
       "      <th>3</th>\n",
       "      <td>Change the category structure. This will increase conversion since users will find the products they want more quickly</td>\n",
       "      <td>8</td>\n",
       "      <td>3</td>\n",
       "      <td>3</td>\n",
       "      <td>8</td>\n",
       "    </tr>\n",
       "    <tr>\n",
       "      <th>4</th>\n",
       "      <td>Change the background color on the main page. This will increase user engagement</td>\n",
       "      <td>3</td>\n",
       "      <td>1</td>\n",
       "      <td>1</td>\n",
       "      <td>1</td>\n",
       "    </tr>\n",
       "    <tr>\n",
       "      <th>5</th>\n",
       "      <td>Add a customer review page. This will increase the number of orders</td>\n",
       "      <td>3</td>\n",
       "      <td>2</td>\n",
       "      <td>2</td>\n",
       "      <td>3</td>\n",
       "    </tr>\n",
       "    <tr>\n",
       "      <th>6</th>\n",
       "      <td>Show banners with current offers and sales on the main page. This will boost conversion</td>\n",
       "      <td>5</td>\n",
       "      <td>3</td>\n",
       "      <td>8</td>\n",
       "      <td>3</td>\n",
       "    </tr>\n",
       "    <tr>\n",
       "      <th>7</th>\n",
       "      <td>Add a subscription form to all the main pages. This will help you compile a mailing list</td>\n",
       "      <td>10</td>\n",
       "      <td>7</td>\n",
       "      <td>8</td>\n",
       "      <td>5</td>\n",
       "    </tr>\n",
       "    <tr>\n",
       "      <th>8</th>\n",
       "      <td>Launch a promotion that gives users discounts on their birthdays</td>\n",
       "      <td>1</td>\n",
       "      <td>9</td>\n",
       "      <td>9</td>\n",
       "      <td>5</td>\n",
       "    </tr>\n",
       "  </tbody>\n",
       "</table>\n",
       "</div>"
      ],
      "text/plain": [
       "                                                                                                               Hypothesis  \\\n",
       "0                                             Add two new channels for attracting traffic. This will bring 30% more users   \n",
       "1                                                       Launch your own delivery service. This will shorten delivery time   \n",
       "2          Add product recommendation blocks to the store's site. This will increase conversion and average purchase size   \n",
       "3  Change the category structure. This will increase conversion since users will find the products they want more quickly   \n",
       "4                                        Change the background color on the main page. This will increase user engagement   \n",
       "5                                                     Add a customer review page. This will increase the number of orders   \n",
       "6                                 Show banners with current offers and sales on the main page. This will boost conversion   \n",
       "7                                Add a subscription form to all the main pages. This will help you compile a mailing list   \n",
       "8                                                        Launch a promotion that gives users discounts on their birthdays   \n",
       "\n",
       "   Reach  Impact  Confidence  Effort  \n",
       "0      3      10           8       6  \n",
       "1      2       5           4      10  \n",
       "2      8       3           7       3  \n",
       "3      8       3           3       8  \n",
       "4      3       1           1       1  \n",
       "5      3       2           2       3  \n",
       "6      5       3           8       3  \n",
       "7     10       7           8       5  \n",
       "8      1       9           9       5  "
      ]
     },
     "execution_count": 4,
     "metadata": {},
     "output_type": "execute_result"
    }
   ],
   "source": [
    "hypothesis.info()\n",
    "hypothesis"
   ]
  },
  {
   "cell_type": "markdown",
   "metadata": {},
   "source": [
    "Dataset ini memuat daftar hipotesis dengan total 9 hipotesis dan memuat 4 parameter dari beberapa hipotesis tersebut. Berikut rincian dari dataset di atas:\n",
    "- Hypotheses — deskripsi singkat tentang hipotesis\n",
    "- Reach — jangkauan pengguna, dalam skala satu hingga sepuluh\n",
    "- Impact — dampak terhadap pengguna, dalam skala satu hingga sepuluh\n",
    "- Confidence — keyakinan pada hipotesis, dalam skala satu sampai sepuluh\n",
    "- Effort — sumber daya yang diperlukan untuk menguji hipotesis, dalam skala satu sampai sepuluh. Semakin tinggi nilai Effort, semakin intensif sumber daya pengujiannya."
   ]
  },
  {
   "cell_type": "code",
   "execution_count": 5,
   "metadata": {},
   "outputs": [],
   "source": [
    "# mengganti semua kolom dengan huruf kecil\n",
    "hypothesis.columns = hypothesis.columns.str.lower()"
   ]
  },
  {
   "cell_type": "code",
   "execution_count": 6,
   "metadata": {},
   "outputs": [],
   "source": [
    "# membuat kolom untuk identitas hipotesis\n",
    "hypothesis['hypo_id'] = range(1, len(hypothesis) + 1)"
   ]
  },
  {
   "cell_type": "code",
   "execution_count": 7,
   "metadata": {},
   "outputs": [
    {
     "data": {
      "text/html": [
       "<div>\n",
       "<style scoped>\n",
       "    .dataframe tbody tr th:only-of-type {\n",
       "        vertical-align: middle;\n",
       "    }\n",
       "\n",
       "    .dataframe tbody tr th {\n",
       "        vertical-align: top;\n",
       "    }\n",
       "\n",
       "    .dataframe thead th {\n",
       "        text-align: right;\n",
       "    }\n",
       "</style>\n",
       "<table border=\"1\" class=\"dataframe\">\n",
       "  <thead>\n",
       "    <tr style=\"text-align: right;\">\n",
       "      <th></th>\n",
       "      <th>hypo_id</th>\n",
       "      <th>ICE</th>\n",
       "    </tr>\n",
       "  </thead>\n",
       "  <tbody>\n",
       "    <tr>\n",
       "      <th>8</th>\n",
       "      <td>9</td>\n",
       "      <td>16.20</td>\n",
       "    </tr>\n",
       "    <tr>\n",
       "      <th>0</th>\n",
       "      <td>1</td>\n",
       "      <td>13.33</td>\n",
       "    </tr>\n",
       "    <tr>\n",
       "      <th>7</th>\n",
       "      <td>8</td>\n",
       "      <td>11.20</td>\n",
       "    </tr>\n",
       "    <tr>\n",
       "      <th>6</th>\n",
       "      <td>7</td>\n",
       "      <td>8.00</td>\n",
       "    </tr>\n",
       "    <tr>\n",
       "      <th>2</th>\n",
       "      <td>3</td>\n",
       "      <td>7.00</td>\n",
       "    </tr>\n",
       "    <tr>\n",
       "      <th>1</th>\n",
       "      <td>2</td>\n",
       "      <td>2.00</td>\n",
       "    </tr>\n",
       "    <tr>\n",
       "      <th>5</th>\n",
       "      <td>6</td>\n",
       "      <td>1.33</td>\n",
       "    </tr>\n",
       "    <tr>\n",
       "      <th>3</th>\n",
       "      <td>4</td>\n",
       "      <td>1.12</td>\n",
       "    </tr>\n",
       "    <tr>\n",
       "      <th>4</th>\n",
       "      <td>5</td>\n",
       "      <td>1.00</td>\n",
       "    </tr>\n",
       "  </tbody>\n",
       "</table>\n",
       "</div>"
      ],
      "text/plain": [
       "   hypo_id    ICE\n",
       "8        9  16.20\n",
       "0        1  13.33\n",
       "7        8  11.20\n",
       "6        7   8.00\n",
       "2        3   7.00\n",
       "1        2   2.00\n",
       "5        6   1.33\n",
       "3        4   1.12\n",
       "4        5   1.00"
      ]
     },
     "execution_count": 7,
     "metadata": {},
     "output_type": "execute_result"
    }
   ],
   "source": [
    "# menerapkan framework ICE\n",
    "hypothesis['ICE'] = (\n",
    "    (\n",
    "        hypothesis['impact'] * hypothesis['confidence']) / hypothesis['effort']\n",
    ").round(2)\n",
    "\n",
    "hypothesis[['hypo_id', 'ICE']].sort_values(by='ICE', ascending=False)"
   ]
  },
  {
   "cell_type": "markdown",
   "metadata": {},
   "source": [
    "Setelah menerapkan framework ICE pada dataset, hipotesis 9 yang paling tinggi skor prioritasnya dengan skor 16.2, lalu hipotesis 1 dengan skor 13.33 dan hipotesis 8 dengan skor 11.2. Hal ini membuktikan bahwa hipotesis 9 harus diprioritaskan berdasarkan framework ICE."
   ]
  },
  {
   "cell_type": "code",
   "execution_count": 68,
   "metadata": {},
   "outputs": [
    {
     "data": {
      "text/html": [
       "<div>\n",
       "<style scoped>\n",
       "    .dataframe tbody tr th:only-of-type {\n",
       "        vertical-align: middle;\n",
       "    }\n",
       "\n",
       "    .dataframe tbody tr th {\n",
       "        vertical-align: top;\n",
       "    }\n",
       "\n",
       "    .dataframe thead th {\n",
       "        text-align: right;\n",
       "    }\n",
       "</style>\n",
       "<table border=\"1\" class=\"dataframe\">\n",
       "  <thead>\n",
       "    <tr style=\"text-align: right;\">\n",
       "      <th></th>\n",
       "      <th>hypo_id</th>\n",
       "      <th>RICE</th>\n",
       "    </tr>\n",
       "  </thead>\n",
       "  <tbody>\n",
       "    <tr>\n",
       "      <th>7</th>\n",
       "      <td>8</td>\n",
       "      <td>112.0</td>\n",
       "    </tr>\n",
       "    <tr>\n",
       "      <th>2</th>\n",
       "      <td>3</td>\n",
       "      <td>56.0</td>\n",
       "    </tr>\n",
       "    <tr>\n",
       "      <th>0</th>\n",
       "      <td>1</td>\n",
       "      <td>40.0</td>\n",
       "    </tr>\n",
       "    <tr>\n",
       "      <th>6</th>\n",
       "      <td>7</td>\n",
       "      <td>40.0</td>\n",
       "    </tr>\n",
       "    <tr>\n",
       "      <th>8</th>\n",
       "      <td>9</td>\n",
       "      <td>16.2</td>\n",
       "    </tr>\n",
       "    <tr>\n",
       "      <th>3</th>\n",
       "      <td>4</td>\n",
       "      <td>9.0</td>\n",
       "    </tr>\n",
       "    <tr>\n",
       "      <th>1</th>\n",
       "      <td>2</td>\n",
       "      <td>4.0</td>\n",
       "    </tr>\n",
       "    <tr>\n",
       "      <th>5</th>\n",
       "      <td>6</td>\n",
       "      <td>4.0</td>\n",
       "    </tr>\n",
       "    <tr>\n",
       "      <th>4</th>\n",
       "      <td>5</td>\n",
       "      <td>3.0</td>\n",
       "    </tr>\n",
       "  </tbody>\n",
       "</table>\n",
       "</div>"
      ],
      "text/plain": [
       "   hypo_id   RICE\n",
       "7        8  112.0\n",
       "2        3   56.0\n",
       "0        1   40.0\n",
       "6        7   40.0\n",
       "8        9   16.2\n",
       "3        4    9.0\n",
       "1        2    4.0\n",
       "5        6    4.0\n",
       "4        5    3.0"
      ]
     },
     "execution_count": 68,
     "metadata": {},
     "output_type": "execute_result"
    }
   ],
   "source": [
    "# menerapkan framework RICE\n",
    "hypothesis['RICE'] = (\n",
    "    (\n",
    "        hypothesis['reach'] * hypothesis['impact'] * hypothesis['confidence']\n",
    "    ) / hypothesis['effort']).round(2)\n",
    "\n",
    "hypothesis[['hypo_id', 'RICE']].sort_values(by='RICE', ascending=False)"
   ]
  },
  {
   "cell_type": "markdown",
   "metadata": {},
   "source": [
    "Setelah menerapkan framework RICE, rupanya urutan prioritas berubah. Di urutan pertama hipotesis 8 yang paling tinggi skornya dengan skor 112, diikuti hipotesis 3 dengan skor 56, dan hipotesis 1 dengan skor 40.\n",
    "\n"
   ]
  },
  {
   "cell_type": "code",
   "execution_count": 69,
   "metadata": {},
   "outputs": [
    {
     "data": {
      "image/png": "[encoded data removed]",
      "text/plain": [
       "<Figure size 720x432 with 1 Axes>"
      ]
     },
     "metadata": {},
     "output_type": "display_data"
    }
   ],
   "source": [
    "# menunjukkan perubahan prioritas hipotesis saat RICE diterapkan untuk menggantikan ICE.\n",
    "num_rows = hypothesis['hypo_id'].nunique()\n",
    "\n",
    "plt.figure(figsize=(10, 6))\n",
    "sns.scatterplot(data=hypothesis, x='ICE', y='RICE')\n",
    "plt.title('Diagram Memprioritaskan Hipotesis')\n",
    "plt.axhline(y=56)\n",
    "plt.axvline(x=8.1)\n",
    "\n",
    "for line in range(0, num_rows):\n",
    "     plt.text(hypothesis.ICE[line], \n",
    "              hypothesis.RICE[line]+0.2, \n",
    "              hypothesis.hypo_id[line], \n",
    "              horizontalalignment='right', \n",
    "              size='medium', \n",
    "              color='black'\n",
    "             )\n",
    "        \n",
    "plt.show()\n"
   ]
  },
  {
   "cell_type": "markdown",
   "metadata": {},
   "source": [
    "Kesimpulan yang dapat ditarik yaitu:\n",
    "- Dalam framework ICE, hipotesis 9 memiliki skor tinggi karena memiliki dampak dan keyakinan yang tinggi, meskipun jangkauannya mungkin tidak sebesar hipotesis lainnya.\n",
    "- Dalam framework RICE, hipotesis 8 mendapatkan prioritas tinggi karena memiliki jangkauan yang sangat tinggi (menghasilkan skor tertinggi dalam hal jangkauan), meskipun dampak dan keyakinannya mungkin tidak setinggi hipotesis 9. Hipotesis 1 juga mendapatkan peringkat tinggi karena kombinasi dampak yang layak dan jangkauan yang tinggi.\n",
    "\n",
    "Hipotesis yang paling diprioritaskan untuk diuji yaitu hipotesis 8."
   ]
  },
  {
   "cell_type": "markdown",
   "metadata": {},
   "source": [
    "## Persiapan Dataset"
   ]
  },
  {
   "cell_type": "code",
   "execution_count": 9,
   "metadata": {},
   "outputs": [],
   "source": [
    "# memuat dataset orders\n",
    "try:\n",
    "    orders = pd.read_csv(\n",
    "        r'C:\\Users\\Adam\\OneDrive\\Course\\TripleTen\\Sprint 8\\orders_us.csv').rename(\n",
    "    columns={\n",
    "        'transactionId':'orderId',\n",
    "        'visitorId':'userId'\n",
    "    }\n",
    ")\n",
    "    \n",
    "except:\n",
    "    orders = pd.read_csv(\n",
    "        '/datasets/orders_us.csv').rename(\n",
    "    columns={\n",
    "        'transactionId':'orderId',\n",
    "        'visitorId':'userId'\n",
    "    }\n",
    ")\n",
    "    \n",
    "# memuat dataset visits\n",
    "try:\n",
    "    visits = pd.read_csv(\n",
    "        r'C:\\Users\\Adam\\OneDrive\\Course\\TripleTen\\Sprint 8\\visits_us.csv'\n",
    "    )\n",
    "    \n",
    "except:\n",
    "    visits = pd.read_csv(\n",
    "        '/datasets/visits_us.csv',\n",
    "    )"
   ]
  },
  {
   "cell_type": "code",
   "execution_count": 10,
   "metadata": {},
   "outputs": [
    {
     "name": "stdout",
     "output_type": "stream",
     "text": [
      "<class 'pandas.core.frame.DataFrame'>\n",
      "RangeIndex: 1197 entries, 0 to 1196\n",
      "Data columns (total 5 columns):\n",
      " #   Column   Non-Null Count  Dtype  \n",
      "---  ------   --------------  -----  \n",
      " 0   orderId  1197 non-null   int64  \n",
      " 1   userId   1197 non-null   int64  \n",
      " 2   date     1197 non-null   object \n",
      " 3   revenue  1197 non-null   float64\n",
      " 4   group    1197 non-null   object \n",
      "dtypes: float64(1), int64(2), object(2)\n",
      "memory usage: 46.9+ KB\n"
     ]
    },
    {
     "data": {
      "text/html": [
       "<div>\n",
       "<style scoped>\n",
       "    .dataframe tbody tr th:only-of-type {\n",
       "        vertical-align: middle;\n",
       "    }\n",
       "\n",
       "    .dataframe tbody tr th {\n",
       "        vertical-align: top;\n",
       "    }\n",
       "\n",
       "    .dataframe thead th {\n",
       "        text-align: right;\n",
       "    }\n",
       "</style>\n",
       "<table border=\"1\" class=\"dataframe\">\n",
       "  <thead>\n",
       "    <tr style=\"text-align: right;\">\n",
       "      <th></th>\n",
       "      <th>orderId</th>\n",
       "      <th>userId</th>\n",
       "      <th>date</th>\n",
       "      <th>revenue</th>\n",
       "      <th>group</th>\n",
       "    </tr>\n",
       "  </thead>\n",
       "  <tbody>\n",
       "    <tr>\n",
       "      <th>0</th>\n",
       "      <td>3667963787</td>\n",
       "      <td>3312258926</td>\n",
       "      <td>2019-08-15</td>\n",
       "      <td>30.4</td>\n",
       "      <td>B</td>\n",
       "    </tr>\n",
       "    <tr>\n",
       "      <th>1</th>\n",
       "      <td>2804400009</td>\n",
       "      <td>3642806036</td>\n",
       "      <td>2019-08-15</td>\n",
       "      <td>15.2</td>\n",
       "      <td>B</td>\n",
       "    </tr>\n",
       "    <tr>\n",
       "      <th>2</th>\n",
       "      <td>2961555356</td>\n",
       "      <td>4069496402</td>\n",
       "      <td>2019-08-15</td>\n",
       "      <td>10.2</td>\n",
       "      <td>A</td>\n",
       "    </tr>\n",
       "    <tr>\n",
       "      <th>3</th>\n",
       "      <td>3797467345</td>\n",
       "      <td>1196621759</td>\n",
       "      <td>2019-08-15</td>\n",
       "      <td>155.1</td>\n",
       "      <td>B</td>\n",
       "    </tr>\n",
       "    <tr>\n",
       "      <th>4</th>\n",
       "      <td>2282983706</td>\n",
       "      <td>2322279887</td>\n",
       "      <td>2019-08-15</td>\n",
       "      <td>40.5</td>\n",
       "      <td>B</td>\n",
       "    </tr>\n",
       "    <tr>\n",
       "      <th>5</th>\n",
       "      <td>182168103</td>\n",
       "      <td>935554773</td>\n",
       "      <td>2019-08-15</td>\n",
       "      <td>35.0</td>\n",
       "      <td>B</td>\n",
       "    </tr>\n",
       "    <tr>\n",
       "      <th>6</th>\n",
       "      <td>398296753</td>\n",
       "      <td>2900797465</td>\n",
       "      <td>2019-08-15</td>\n",
       "      <td>30.6</td>\n",
       "      <td>B</td>\n",
       "    </tr>\n",
       "    <tr>\n",
       "      <th>7</th>\n",
       "      <td>2626614568</td>\n",
       "      <td>78758296</td>\n",
       "      <td>2019-08-15</td>\n",
       "      <td>20.1</td>\n",
       "      <td>A</td>\n",
       "    </tr>\n",
       "    <tr>\n",
       "      <th>8</th>\n",
       "      <td>1576988021</td>\n",
       "      <td>295230930</td>\n",
       "      <td>2019-08-15</td>\n",
       "      <td>215.9</td>\n",
       "      <td>A</td>\n",
       "    </tr>\n",
       "    <tr>\n",
       "      <th>9</th>\n",
       "      <td>1506739906</td>\n",
       "      <td>1882260405</td>\n",
       "      <td>2019-08-15</td>\n",
       "      <td>30.5</td>\n",
       "      <td>B</td>\n",
       "    </tr>\n",
       "  </tbody>\n",
       "</table>\n",
       "</div>"
      ],
      "text/plain": [
       "      orderId      userId        date  revenue group\n",
       "0  3667963787  3312258926  2019-08-15     30.4     B\n",
       "1  2804400009  3642806036  2019-08-15     15.2     B\n",
       "2  2961555356  4069496402  2019-08-15     10.2     A\n",
       "3  3797467345  1196621759  2019-08-15    155.1     B\n",
       "4  2282983706  2322279887  2019-08-15     40.5     B\n",
       "5   182168103   935554773  2019-08-15     35.0     B\n",
       "6   398296753  2900797465  2019-08-15     30.6     B\n",
       "7  2626614568    78758296  2019-08-15     20.1     A\n",
       "8  1576988021   295230930  2019-08-15    215.9     A\n",
       "9  1506739906  1882260405  2019-08-15     30.5     B"
      ]
     },
     "execution_count": 10,
     "metadata": {},
     "output_type": "execute_result"
    }
   ],
   "source": [
    "# menampilkan informasi umum dataset orders dan 10 baris pertama\n",
    "orders.info()\n",
    "orders.head(10)"
   ]
  },
  {
   "cell_type": "markdown",
   "metadata": {},
   "source": [
    "Data orders memuat data pembelian pelanggan. Terdapat 1197 baris dengan 5 kolom dengan rincian sebagai berikut: \n",
    "- orderId — ID pesanan\n",
    "- userId — ID pengguna yang membuat pesanan\n",
    "- date — tanggal dibuatnya pesanan\n",
    "- revenue — pendapatan dari pesanan\n",
    "- group — kelompok uji (test group) A/B tempat pengguna berada"
   ]
  },
  {
   "cell_type": "code",
   "execution_count": 11,
   "metadata": {},
   "outputs": [
    {
     "name": "stdout",
     "output_type": "stream",
     "text": [
      "<class 'pandas.core.frame.DataFrame'>\n",
      "RangeIndex: 62 entries, 0 to 61\n",
      "Data columns (total 3 columns):\n",
      " #   Column  Non-Null Count  Dtype \n",
      "---  ------  --------------  ----- \n",
      " 0   date    62 non-null     object\n",
      " 1   group   62 non-null     object\n",
      " 2   visits  62 non-null     int64 \n",
      "dtypes: int64(1), object(2)\n",
      "memory usage: 1.6+ KB\n"
     ]
    },
    {
     "data": {
      "text/html": [
       "<div>\n",
       "<style scoped>\n",
       "    .dataframe tbody tr th:only-of-type {\n",
       "        vertical-align: middle;\n",
       "    }\n",
       "\n",
       "    .dataframe tbody tr th {\n",
       "        vertical-align: top;\n",
       "    }\n",
       "\n",
       "    .dataframe thead th {\n",
       "        text-align: right;\n",
       "    }\n",
       "</style>\n",
       "<table border=\"1\" class=\"dataframe\">\n",
       "  <thead>\n",
       "    <tr style=\"text-align: right;\">\n",
       "      <th></th>\n",
       "      <th>date</th>\n",
       "      <th>group</th>\n",
       "      <th>visits</th>\n",
       "    </tr>\n",
       "  </thead>\n",
       "  <tbody>\n",
       "    <tr>\n",
       "      <th>0</th>\n",
       "      <td>2019-08-01</td>\n",
       "      <td>A</td>\n",
       "      <td>719</td>\n",
       "    </tr>\n",
       "    <tr>\n",
       "      <th>1</th>\n",
       "      <td>2019-08-02</td>\n",
       "      <td>A</td>\n",
       "      <td>619</td>\n",
       "    </tr>\n",
       "    <tr>\n",
       "      <th>2</th>\n",
       "      <td>2019-08-03</td>\n",
       "      <td>A</td>\n",
       "      <td>507</td>\n",
       "    </tr>\n",
       "    <tr>\n",
       "      <th>3</th>\n",
       "      <td>2019-08-04</td>\n",
       "      <td>A</td>\n",
       "      <td>717</td>\n",
       "    </tr>\n",
       "    <tr>\n",
       "      <th>4</th>\n",
       "      <td>2019-08-05</td>\n",
       "      <td>A</td>\n",
       "      <td>756</td>\n",
       "    </tr>\n",
       "    <tr>\n",
       "      <th>5</th>\n",
       "      <td>2019-08-06</td>\n",
       "      <td>A</td>\n",
       "      <td>667</td>\n",
       "    </tr>\n",
       "    <tr>\n",
       "      <th>6</th>\n",
       "      <td>2019-08-07</td>\n",
       "      <td>A</td>\n",
       "      <td>644</td>\n",
       "    </tr>\n",
       "    <tr>\n",
       "      <th>7</th>\n",
       "      <td>2019-08-08</td>\n",
       "      <td>A</td>\n",
       "      <td>610</td>\n",
       "    </tr>\n",
       "    <tr>\n",
       "      <th>8</th>\n",
       "      <td>2019-08-09</td>\n",
       "      <td>A</td>\n",
       "      <td>617</td>\n",
       "    </tr>\n",
       "    <tr>\n",
       "      <th>9</th>\n",
       "      <td>2019-08-10</td>\n",
       "      <td>A</td>\n",
       "      <td>406</td>\n",
       "    </tr>\n",
       "  </tbody>\n",
       "</table>\n",
       "</div>"
      ],
      "text/plain": [
       "         date group  visits\n",
       "0  2019-08-01     A     719\n",
       "1  2019-08-02     A     619\n",
       "2  2019-08-03     A     507\n",
       "3  2019-08-04     A     717\n",
       "4  2019-08-05     A     756\n",
       "5  2019-08-06     A     667\n",
       "6  2019-08-07     A     644\n",
       "7  2019-08-08     A     610\n",
       "8  2019-08-09     A     617\n",
       "9  2019-08-10     A     406"
      ]
     },
     "execution_count": 11,
     "metadata": {},
     "output_type": "execute_result"
    }
   ],
   "source": [
    "# menampilkan informasi umum dataset visits dan 10 baris pertama\n",
    "visits.info()\n",
    "visits.head(10)"
   ]
  },
  {
   "cell_type": "markdown",
   "metadata": {},
   "source": [
    "Dataset visits memuat data kunjungan ke situs web. Dataset ini memuat 62 baris dan 3 kolom dengan rincian sebagai berikut:\n",
    "- date — tanggal\n",
    "- group — kelompok uji (test group) A/B\n",
    "- visits — jumlah kunjungan pada tanggal yang ditentukan untuk kelompok uji A/B yang ditentukan"
   ]
  },
  {
   "cell_type": "markdown",
   "metadata": {},
   "source": [
    "## Pra-pemrosesan Data\n",
    "Sebelum melakukan analisis A/B testing, kedua dataset perlu diperiksa terlebih dahulu datanya. Seperti nilai pada kolom, tipe datanya, atau mengganti tipe datanya."
   ]
  },
  {
   "cell_type": "markdown",
   "metadata": {},
   "source": [
    "#### Data Orders"
   ]
  },
  {
   "cell_type": "code",
   "execution_count": 12,
   "metadata": {},
   "outputs": [],
   "source": [
    "# merubah tipe data pada kolom date\n",
    "orders['date'] = orders['date'].map(\n",
    "    lambda x: dt.datetime.strptime(x, '%Y-%m-%d')\n",
    ")"
   ]
  },
  {
   "cell_type": "code",
   "execution_count": 13,
   "metadata": {},
   "outputs": [
    {
     "data": {
      "text/plain": [
       "0"
      ]
     },
     "execution_count": 13,
     "metadata": {},
     "output_type": "execute_result"
    }
   ],
   "source": [
    "# melihat nilai di dalam kolom\n",
    "orders.duplicated().sum()"
   ]
  },
  {
   "cell_type": "code",
   "execution_count": 14,
   "metadata": {},
   "outputs": [
    {
     "data": {
      "text/plain": [
       "B    640\n",
       "A    557\n",
       "Name: group, dtype: int64"
      ]
     },
     "execution_count": 14,
     "metadata": {},
     "output_type": "execute_result"
    }
   ],
   "source": [
    "# memeriksa distribusi user pada kedua grup\n",
    "orders['group'].value_counts()"
   ]
  },
  {
   "cell_type": "code",
   "execution_count": 15,
   "metadata": {},
   "outputs": [
    {
     "data": {
      "text/plain": [
       "58"
      ]
     },
     "execution_count": 15,
     "metadata": {},
     "output_type": "execute_result"
    }
   ],
   "source": [
    "# memeriksa user id yang terduplikat pada kedua grup\n",
    "userA = orders[orders['group'] == 'A']['userId'].drop_duplicates()\n",
    "userB = orders[orders['group'] == 'B']['userId'].drop_duplicates()\n",
    "duplicate_user = userB[userB.isin(userA)]\n",
    "len(duplicate_user)"
   ]
  },
  {
   "cell_type": "code",
   "execution_count": 16,
   "metadata": {},
   "outputs": [],
   "source": [
    "# menghapus user id yang terduplikat\n",
    "orders = orders[~orders['userId'].isin(duplicate_user)]"
   ]
  },
  {
   "cell_type": "code",
   "execution_count": 17,
   "metadata": {},
   "outputs": [
    {
     "data": {
      "text/plain": [
       "0"
      ]
     },
     "execution_count": 17,
     "metadata": {},
     "output_type": "execute_result"
    }
   ],
   "source": [
    "# memeriksa kembali user id yang terduplikat pada kedua grup\n",
    "clean_userA = orders[orders['group'] == 'A']['userId'].drop_duplicates()\n",
    "clean_userB = orders[orders['group'] == 'B']['userId'].drop_duplicates()\n",
    "\n",
    "clean_user = clean_userB[clean_userB.isin(clean_userA)]\n",
    "\n",
    "len(clean_user)"
   ]
  },
  {
   "cell_type": "code",
   "execution_count": 18,
   "metadata": {},
   "outputs": [
    {
     "data": {
      "text/plain": [
       "B    548\n",
       "A    468\n",
       "Name: group, dtype: int64"
      ]
     },
     "execution_count": 18,
     "metadata": {},
     "output_type": "execute_result"
    }
   ],
   "source": [
    "# memeriksa kembali distribusi user pada kedua grup\n",
    "orders['group'].value_counts()"
   ]
  },
  {
   "cell_type": "code",
   "execution_count": 19,
   "metadata": {},
   "outputs": [
    {
     "data": {
      "text/html": [
       "<div>\n",
       "<style scoped>\n",
       "    .dataframe tbody tr th:only-of-type {\n",
       "        vertical-align: middle;\n",
       "    }\n",
       "\n",
       "    .dataframe tbody tr th {\n",
       "        vertical-align: top;\n",
       "    }\n",
       "\n",
       "    .dataframe thead th {\n",
       "        text-align: right;\n",
       "    }\n",
       "</style>\n",
       "<table border=\"1\" class=\"dataframe\">\n",
       "  <thead>\n",
       "    <tr style=\"text-align: right;\">\n",
       "      <th></th>\n",
       "      <th>revenue</th>\n",
       "    </tr>\n",
       "  </thead>\n",
       "  <tbody>\n",
       "    <tr>\n",
       "      <th>count</th>\n",
       "      <td>1016.000000</td>\n",
       "    </tr>\n",
       "    <tr>\n",
       "      <th>mean</th>\n",
       "      <td>130.770866</td>\n",
       "    </tr>\n",
       "    <tr>\n",
       "      <th>std</th>\n",
       "      <td>648.079810</td>\n",
       "    </tr>\n",
       "    <tr>\n",
       "      <th>min</th>\n",
       "      <td>5.000000</td>\n",
       "    </tr>\n",
       "    <tr>\n",
       "      <th>25%</th>\n",
       "      <td>20.775000</td>\n",
       "    </tr>\n",
       "    <tr>\n",
       "      <th>50%</th>\n",
       "      <td>50.100000</td>\n",
       "    </tr>\n",
       "    <tr>\n",
       "      <th>75%</th>\n",
       "      <td>126.950000</td>\n",
       "    </tr>\n",
       "    <tr>\n",
       "      <th>max</th>\n",
       "      <td>19920.400000</td>\n",
       "    </tr>\n",
       "  </tbody>\n",
       "</table>\n",
       "</div>"
      ],
      "text/plain": [
       "            revenue\n",
       "count   1016.000000\n",
       "mean     130.770866\n",
       "std      648.079810\n",
       "min        5.000000\n",
       "25%       20.775000\n",
       "50%       50.100000\n",
       "75%      126.950000\n",
       "max    19920.400000"
      ]
     },
     "execution_count": 19,
     "metadata": {},
     "output_type": "execute_result"
    }
   ],
   "source": [
    "# memeriksa distribusi nilai kolom revenue\n",
    "orders[['revenue']].describe()"
   ]
  },
  {
   "cell_type": "code",
   "execution_count": 20,
   "metadata": {},
   "outputs": [
    {
     "data": {
      "text/plain": [
       "43"
      ]
     },
     "execution_count": 20,
     "metadata": {},
     "output_type": "execute_result"
    }
   ],
   "source": [
    "# memeriksa duplikasi pada kolom user id\n",
    "orders['userId'].duplicated().sum()"
   ]
  },
  {
   "cell_type": "code",
   "execution_count": 21,
   "metadata": {},
   "outputs": [
    {
     "data": {
      "text/html": [
       "<div>\n",
       "<style scoped>\n",
       "    .dataframe tbody tr th:only-of-type {\n",
       "        vertical-align: middle;\n",
       "    }\n",
       "\n",
       "    .dataframe tbody tr th {\n",
       "        vertical-align: top;\n",
       "    }\n",
       "\n",
       "    .dataframe thead th {\n",
       "        text-align: right;\n",
       "    }\n",
       "</style>\n",
       "<table border=\"1\" class=\"dataframe\">\n",
       "  <thead>\n",
       "    <tr style=\"text-align: right;\">\n",
       "      <th></th>\n",
       "      <th>date</th>\n",
       "    </tr>\n",
       "  </thead>\n",
       "  <tbody>\n",
       "    <tr>\n",
       "      <th>min</th>\n",
       "      <td>2019-08-01</td>\n",
       "    </tr>\n",
       "    <tr>\n",
       "      <th>max</th>\n",
       "      <td>2019-08-31</td>\n",
       "    </tr>\n",
       "  </tbody>\n",
       "</table>\n",
       "</div>"
      ],
      "text/plain": [
       "          date\n",
       "min 2019-08-01\n",
       "max 2019-08-31"
      ]
     },
     "execution_count": 21,
     "metadata": {},
     "output_type": "execute_result"
    }
   ],
   "source": [
    "# memeriksa durasi waktu pengujian\n",
    "orders[['date']].agg({min,max})"
   ]
  },
  {
   "cell_type": "code",
   "execution_count": 22,
   "metadata": {},
   "outputs": [
    {
     "data": {
      "text/plain": [
       "0"
      ]
     },
     "execution_count": 22,
     "metadata": {},
     "output_type": "execute_result"
    }
   ],
   "source": [
    "# memeriksa duplikasi pada kolom orderId\n",
    "orders['orderId'].duplicated().sum()"
   ]
  },
  {
   "cell_type": "code",
   "execution_count": 23,
   "metadata": {},
   "outputs": [
    {
     "name": "stdout",
     "output_type": "stream",
     "text": [
      "<class 'pandas.core.frame.DataFrame'>\n",
      "Int64Index: 1016 entries, 0 to 1196\n",
      "Data columns (total 5 columns):\n",
      " #   Column   Non-Null Count  Dtype         \n",
      "---  ------   --------------  -----         \n",
      " 0   orderId  1016 non-null   int64         \n",
      " 1   userId   1016 non-null   int64         \n",
      " 2   date     1016 non-null   datetime64[ns]\n",
      " 3   revenue  1016 non-null   float64       \n",
      " 4   group    1016 non-null   object        \n",
      "dtypes: datetime64[ns](1), float64(1), int64(2), object(1)\n",
      "memory usage: 47.6+ KB\n"
     ]
    },
    {
     "data": {
      "text/html": [
       "<div>\n",
       "<style scoped>\n",
       "    .dataframe tbody tr th:only-of-type {\n",
       "        vertical-align: middle;\n",
       "    }\n",
       "\n",
       "    .dataframe tbody tr th {\n",
       "        vertical-align: top;\n",
       "    }\n",
       "\n",
       "    .dataframe thead th {\n",
       "        text-align: right;\n",
       "    }\n",
       "</style>\n",
       "<table border=\"1\" class=\"dataframe\">\n",
       "  <thead>\n",
       "    <tr style=\"text-align: right;\">\n",
       "      <th></th>\n",
       "      <th>orderId</th>\n",
       "      <th>userId</th>\n",
       "      <th>date</th>\n",
       "      <th>revenue</th>\n",
       "      <th>group</th>\n",
       "    </tr>\n",
       "  </thead>\n",
       "  <tbody>\n",
       "    <tr>\n",
       "      <th>872</th>\n",
       "      <td>2000852429</td>\n",
       "      <td>2445531802</td>\n",
       "      <td>2019-08-08</td>\n",
       "      <td>15.7</td>\n",
       "      <td>A</td>\n",
       "    </tr>\n",
       "    <tr>\n",
       "      <th>241</th>\n",
       "      <td>1164811175</td>\n",
       "      <td>3524303171</td>\n",
       "      <td>2019-08-02</td>\n",
       "      <td>40.2</td>\n",
       "      <td>B</td>\n",
       "    </tr>\n",
       "    <tr>\n",
       "      <th>1132</th>\n",
       "      <td>4209564703</td>\n",
       "      <td>1795951456</td>\n",
       "      <td>2019-08-13</td>\n",
       "      <td>135.2</td>\n",
       "      <td>B</td>\n",
       "    </tr>\n",
       "    <tr>\n",
       "      <th>476</th>\n",
       "      <td>457171476</td>\n",
       "      <td>1377447894</td>\n",
       "      <td>2019-08-28</td>\n",
       "      <td>5.6</td>\n",
       "      <td>B</td>\n",
       "    </tr>\n",
       "    <tr>\n",
       "      <th>981</th>\n",
       "      <td>702418073</td>\n",
       "      <td>3396460792</td>\n",
       "      <td>2019-08-10</td>\n",
       "      <td>10.8</td>\n",
       "      <td>A</td>\n",
       "    </tr>\n",
       "    <tr>\n",
       "      <th>260</th>\n",
       "      <td>364342391</td>\n",
       "      <td>2849720983</td>\n",
       "      <td>2019-08-02</td>\n",
       "      <td>40.2</td>\n",
       "      <td>B</td>\n",
       "    </tr>\n",
       "    <tr>\n",
       "      <th>125</th>\n",
       "      <td>2232016803</td>\n",
       "      <td>428219747</td>\n",
       "      <td>2019-08-17</td>\n",
       "      <td>125.9</td>\n",
       "      <td>B</td>\n",
       "    </tr>\n",
       "    <tr>\n",
       "      <th>913</th>\n",
       "      <td>4132628207</td>\n",
       "      <td>2604694259</td>\n",
       "      <td>2019-08-08</td>\n",
       "      <td>25.4</td>\n",
       "      <td>B</td>\n",
       "    </tr>\n",
       "    <tr>\n",
       "      <th>957</th>\n",
       "      <td>3759988715</td>\n",
       "      <td>1762249948</td>\n",
       "      <td>2019-08-31</td>\n",
       "      <td>80.5</td>\n",
       "      <td>B</td>\n",
       "    </tr>\n",
       "    <tr>\n",
       "      <th>1033</th>\n",
       "      <td>1338703051</td>\n",
       "      <td>962484204</td>\n",
       "      <td>2019-08-10</td>\n",
       "      <td>25.7</td>\n",
       "      <td>B</td>\n",
       "    </tr>\n",
       "  </tbody>\n",
       "</table>\n",
       "</div>"
      ],
      "text/plain": [
       "         orderId      userId       date  revenue group\n",
       "872   2000852429  2445531802 2019-08-08     15.7     A\n",
       "241   1164811175  3524303171 2019-08-02     40.2     B\n",
       "1132  4209564703  1795951456 2019-08-13    135.2     B\n",
       "476    457171476  1377447894 2019-08-28      5.6     B\n",
       "981    702418073  3396460792 2019-08-10     10.8     A\n",
       "260    364342391  2849720983 2019-08-02     40.2     B\n",
       "125   2232016803   428219747 2019-08-17    125.9     B\n",
       "913   4132628207  2604694259 2019-08-08     25.4     B\n",
       "957   3759988715  1762249948 2019-08-31     80.5     B\n",
       "1033  1338703051   962484204 2019-08-10     25.7     B"
      ]
     },
     "execution_count": 23,
     "metadata": {},
     "output_type": "execute_result"
    }
   ],
   "source": [
    "# menampilkan kembali informasi umum dan sample data orders\n",
    "orders.info()\n",
    "orders.sample(10)"
   ]
  },
  {
   "cell_type": "markdown",
   "metadata": {},
   "source": [
    "Pada dataset ini telah dilakukan pemeriksaan dan menerapkan beberapa perubahan yaitu: \n",
    "- Mengganti tipe data pada kolom date menjadi datetime\n",
    "- Menghapus userId yang tercampur di antara kedua grup uji\n",
    "- Waktu pengujian dimulai dari tanggal 1 Agustus 2019\n",
    "- Setelah proses inspeksi selesai, dataset terbaru hanya berisi 1016 baris."
   ]
  },
  {
   "cell_type": "markdown",
   "metadata": {},
   "source": [
    "#### Data Visits"
   ]
  },
  {
   "cell_type": "code",
   "execution_count": 24,
   "metadata": {},
   "outputs": [],
   "source": [
    "# mengganti tipe data tanggal\n",
    "visits['date'] = visits['date'].map(\n",
    "    lambda x: dt.datetime.strptime(x, '%Y-%m-%d')\n",
    ")"
   ]
  },
  {
   "cell_type": "code",
   "execution_count": 25,
   "metadata": {},
   "outputs": [
    {
     "data": {
      "text/plain": [
       "0"
      ]
     },
     "execution_count": 25,
     "metadata": {},
     "output_type": "execute_result"
    }
   ],
   "source": [
    "# memeriksa duplikasi data\n",
    "visits.duplicated().sum()"
   ]
  },
  {
   "cell_type": "code",
   "execution_count": 26,
   "metadata": {},
   "outputs": [
    {
     "data": {
      "text/html": [
       "<div>\n",
       "<style scoped>\n",
       "    .dataframe tbody tr th:only-of-type {\n",
       "        vertical-align: middle;\n",
       "    }\n",
       "\n",
       "    .dataframe tbody tr th {\n",
       "        vertical-align: top;\n",
       "    }\n",
       "\n",
       "    .dataframe thead th {\n",
       "        text-align: right;\n",
       "    }\n",
       "</style>\n",
       "<table border=\"1\" class=\"dataframe\">\n",
       "  <thead>\n",
       "    <tr style=\"text-align: right;\">\n",
       "      <th></th>\n",
       "      <th>date</th>\n",
       "    </tr>\n",
       "  </thead>\n",
       "  <tbody>\n",
       "    <tr>\n",
       "      <th>min</th>\n",
       "      <td>2019-08-01</td>\n",
       "    </tr>\n",
       "    <tr>\n",
       "      <th>max</th>\n",
       "      <td>2019-08-31</td>\n",
       "    </tr>\n",
       "  </tbody>\n",
       "</table>\n",
       "</div>"
      ],
      "text/plain": [
       "          date\n",
       "min 2019-08-01\n",
       "max 2019-08-31"
      ]
     },
     "execution_count": 26,
     "metadata": {},
     "output_type": "execute_result"
    }
   ],
   "source": [
    "# memeriksa rentang waktu pengujian\n",
    "visits[['date']].agg({min,max})"
   ]
  },
  {
   "cell_type": "code",
   "execution_count": 27,
   "metadata": {},
   "outputs": [
    {
     "data": {
      "text/plain": [
       "A    31\n",
       "B    31\n",
       "Name: group, dtype: int64"
      ]
     },
     "execution_count": 27,
     "metadata": {},
     "output_type": "execute_result"
    }
   ],
   "source": [
    "# memeriksa nilai pada kolom group\n",
    "visits['group'].value_counts()"
   ]
  },
  {
   "cell_type": "code",
   "execution_count": 28,
   "metadata": {},
   "outputs": [
    {
     "data": {
      "text/html": [
       "<div>\n",
       "<style scoped>\n",
       "    .dataframe tbody tr th:only-of-type {\n",
       "        vertical-align: middle;\n",
       "    }\n",
       "\n",
       "    .dataframe tbody tr th {\n",
       "        vertical-align: top;\n",
       "    }\n",
       "\n",
       "    .dataframe thead th {\n",
       "        text-align: right;\n",
       "    }\n",
       "</style>\n",
       "<table border=\"1\" class=\"dataframe\">\n",
       "  <thead>\n",
       "    <tr style=\"text-align: right;\">\n",
       "      <th></th>\n",
       "      <th>visits</th>\n",
       "    </tr>\n",
       "  </thead>\n",
       "  <tbody>\n",
       "    <tr>\n",
       "      <th>count</th>\n",
       "      <td>62.000000</td>\n",
       "    </tr>\n",
       "    <tr>\n",
       "      <th>mean</th>\n",
       "      <td>607.290323</td>\n",
       "    </tr>\n",
       "    <tr>\n",
       "      <th>std</th>\n",
       "      <td>114.400560</td>\n",
       "    </tr>\n",
       "    <tr>\n",
       "      <th>min</th>\n",
       "      <td>361.000000</td>\n",
       "    </tr>\n",
       "    <tr>\n",
       "      <th>25%</th>\n",
       "      <td>534.000000</td>\n",
       "    </tr>\n",
       "    <tr>\n",
       "      <th>50%</th>\n",
       "      <td>624.500000</td>\n",
       "    </tr>\n",
       "    <tr>\n",
       "      <th>75%</th>\n",
       "      <td>710.500000</td>\n",
       "    </tr>\n",
       "    <tr>\n",
       "      <th>max</th>\n",
       "      <td>770.000000</td>\n",
       "    </tr>\n",
       "  </tbody>\n",
       "</table>\n",
       "</div>"
      ],
      "text/plain": [
       "           visits\n",
       "count   62.000000\n",
       "mean   607.290323\n",
       "std    114.400560\n",
       "min    361.000000\n",
       "25%    534.000000\n",
       "50%    624.500000\n",
       "75%    710.500000\n",
       "max    770.000000"
      ]
     },
     "execution_count": 28,
     "metadata": {},
     "output_type": "execute_result"
    }
   ],
   "source": [
    "# memeriksa distribusi pada kolom visits\n",
    "visits[['visits']].describe()"
   ]
  },
  {
   "cell_type": "code",
   "execution_count": 29,
   "metadata": {},
   "outputs": [
    {
     "name": "stdout",
     "output_type": "stream",
     "text": [
      "<class 'pandas.core.frame.DataFrame'>\n",
      "RangeIndex: 62 entries, 0 to 61\n",
      "Data columns (total 3 columns):\n",
      " #   Column  Non-Null Count  Dtype         \n",
      "---  ------  --------------  -----         \n",
      " 0   date    62 non-null     datetime64[ns]\n",
      " 1   group   62 non-null     object        \n",
      " 2   visits  62 non-null     int64         \n",
      "dtypes: datetime64[ns](1), int64(1), object(1)\n",
      "memory usage: 1.6+ KB\n"
     ]
    },
    {
     "data": {
      "text/html": [
       "<div>\n",
       "<style scoped>\n",
       "    .dataframe tbody tr th:only-of-type {\n",
       "        vertical-align: middle;\n",
       "    }\n",
       "\n",
       "    .dataframe tbody tr th {\n",
       "        vertical-align: top;\n",
       "    }\n",
       "\n",
       "    .dataframe thead th {\n",
       "        text-align: right;\n",
       "    }\n",
       "</style>\n",
       "<table border=\"1\" class=\"dataframe\">\n",
       "  <thead>\n",
       "    <tr style=\"text-align: right;\">\n",
       "      <th></th>\n",
       "      <th>date</th>\n",
       "      <th>group</th>\n",
       "      <th>visits</th>\n",
       "    </tr>\n",
       "  </thead>\n",
       "  <tbody>\n",
       "    <tr>\n",
       "      <th>56</th>\n",
       "      <td>2019-08-26</td>\n",
       "      <td>B</td>\n",
       "      <td>676</td>\n",
       "    </tr>\n",
       "    <tr>\n",
       "      <th>29</th>\n",
       "      <td>2019-08-30</td>\n",
       "      <td>A</td>\n",
       "      <td>490</td>\n",
       "    </tr>\n",
       "    <tr>\n",
       "      <th>6</th>\n",
       "      <td>2019-08-07</td>\n",
       "      <td>A</td>\n",
       "      <td>644</td>\n",
       "    </tr>\n",
       "    <tr>\n",
       "      <th>57</th>\n",
       "      <td>2019-08-27</td>\n",
       "      <td>B</td>\n",
       "      <td>720</td>\n",
       "    </tr>\n",
       "    <tr>\n",
       "      <th>45</th>\n",
       "      <td>2019-08-15</td>\n",
       "      <td>B</td>\n",
       "      <td>544</td>\n",
       "    </tr>\n",
       "    <tr>\n",
       "      <th>55</th>\n",
       "      <td>2019-08-25</td>\n",
       "      <td>B</td>\n",
       "      <td>679</td>\n",
       "    </tr>\n",
       "    <tr>\n",
       "      <th>23</th>\n",
       "      <td>2019-08-24</td>\n",
       "      <td>A</td>\n",
       "      <td>395</td>\n",
       "    </tr>\n",
       "    <tr>\n",
       "      <th>16</th>\n",
       "      <td>2019-08-17</td>\n",
       "      <td>A</td>\n",
       "      <td>412</td>\n",
       "    </tr>\n",
       "    <tr>\n",
       "      <th>15</th>\n",
       "      <td>2019-08-16</td>\n",
       "      <td>A</td>\n",
       "      <td>361</td>\n",
       "    </tr>\n",
       "    <tr>\n",
       "      <th>35</th>\n",
       "      <td>2019-08-05</td>\n",
       "      <td>B</td>\n",
       "      <td>707</td>\n",
       "    </tr>\n",
       "  </tbody>\n",
       "</table>\n",
       "</div>"
      ],
      "text/plain": [
       "         date group  visits\n",
       "56 2019-08-26     B     676\n",
       "29 2019-08-30     A     490\n",
       "6  2019-08-07     A     644\n",
       "57 2019-08-27     B     720\n",
       "45 2019-08-15     B     544\n",
       "55 2019-08-25     B     679\n",
       "23 2019-08-24     A     395\n",
       "16 2019-08-17     A     412\n",
       "15 2019-08-16     A     361\n",
       "35 2019-08-05     B     707"
      ]
     },
     "execution_count": 29,
     "metadata": {},
     "output_type": "execute_result"
    }
   ],
   "source": [
    "# menampilkann kembali informasi umum dan sample dataset visits\n",
    "visits.info()\n",
    "visits.sample(10)"
   ]
  },
  {
   "cell_type": "markdown",
   "metadata": {},
   "source": [
    "Pada dataset ini telah dilakukan pemeriksaan dan menerapkan beberapa perubahan yaitu:\n",
    "\n",
    "- Mengganti tipe data pada kolom date menjadi datetime\n",
    "- Waktu pengujian sama seperti pada dataset order yaitu dimulai dari tanggal 1 Agustus 2019\n",
    "\n",
    "Setelah kedua dataset telah dilakukan inspeksi, saatnya untuk memulai analisis A/B testing."
   ]
  },
  {
   "cell_type": "markdown",
   "metadata": {},
   "source": [
    "### Pendapatan Kumulatif Berdasarkan Kelompok"
   ]
  },
  {
   "cell_type": "code",
   "execution_count": 30,
   "metadata": {},
   "outputs": [],
   "source": [
    "# mengelompokkan tanggal dan grup uji\n",
    "datesGroups = orders[['date', 'group']].drop_duplicates()"
   ]
  },
  {
   "cell_type": "code",
   "execution_count": 31,
   "metadata": {},
   "outputs": [
    {
     "data": {
      "text/html": [
       "<div>\n",
       "<style scoped>\n",
       "    .dataframe tbody tr th:only-of-type {\n",
       "        vertical-align: middle;\n",
       "    }\n",
       "\n",
       "    .dataframe tbody tr th {\n",
       "        vertical-align: top;\n",
       "    }\n",
       "\n",
       "    .dataframe thead th {\n",
       "        text-align: right;\n",
       "    }\n",
       "</style>\n",
       "<table border=\"1\" class=\"dataframe\">\n",
       "  <thead>\n",
       "    <tr style=\"text-align: right;\">\n",
       "      <th></th>\n",
       "      <th>date</th>\n",
       "      <th>group</th>\n",
       "      <th>orderId</th>\n",
       "      <th>userId</th>\n",
       "      <th>revenue</th>\n",
       "    </tr>\n",
       "  </thead>\n",
       "  <tbody>\n",
       "    <tr>\n",
       "      <th>55</th>\n",
       "      <td>2019-08-01</td>\n",
       "      <td>A</td>\n",
       "      <td>23</td>\n",
       "      <td>19</td>\n",
       "      <td>2266.6</td>\n",
       "    </tr>\n",
       "    <tr>\n",
       "      <th>66</th>\n",
       "      <td>2019-08-01</td>\n",
       "      <td>B</td>\n",
       "      <td>17</td>\n",
       "      <td>17</td>\n",
       "      <td>967.2</td>\n",
       "    </tr>\n",
       "    <tr>\n",
       "      <th>175</th>\n",
       "      <td>2019-08-02</td>\n",
       "      <td>A</td>\n",
       "      <td>42</td>\n",
       "      <td>36</td>\n",
       "      <td>3734.9</td>\n",
       "    </tr>\n",
       "    <tr>\n",
       "      <th>173</th>\n",
       "      <td>2019-08-02</td>\n",
       "      <td>B</td>\n",
       "      <td>40</td>\n",
       "      <td>39</td>\n",
       "      <td>3535.3</td>\n",
       "    </tr>\n",
       "    <tr>\n",
       "      <th>291</th>\n",
       "      <td>2019-08-03</td>\n",
       "      <td>A</td>\n",
       "      <td>66</td>\n",
       "      <td>60</td>\n",
       "      <td>5550.1</td>\n",
       "    </tr>\n",
       "  </tbody>\n",
       "</table>\n",
       "</div>"
      ],
      "text/plain": [
       "          date group  orderId  userId  revenue\n",
       "55  2019-08-01     A       23      19   2266.6\n",
       "66  2019-08-01     B       17      17    967.2\n",
       "175 2019-08-02     A       42      36   3734.9\n",
       "173 2019-08-02     B       40      39   3535.3\n",
       "291 2019-08-03     A       66      60   5550.1"
      ]
     },
     "execution_count": 31,
     "metadata": {},
     "output_type": "execute_result"
    }
   ],
   "source": [
    "# mengelompokkan data pendapatan\n",
    "ordersAgg = datesGroups.apply(\n",
    "    lambda x: orders[np.logical_and(orders['date'] <= x['date'], orders['group'] == x['group'])].agg({\n",
    "        'date' : 'max',\n",
    "        'group' : 'max',\n",
    "        'orderId' : pd.Series.nunique,\n",
    "        'userId' : pd.Series.nunique,\n",
    "        'revenue' : 'sum'\n",
    "    }), axis=1).sort_values(by=['date','group'])\n",
    "\n",
    "ordersAgg.head()"
   ]
  },
  {
   "cell_type": "code",
   "execution_count": 32,
   "metadata": {},
   "outputs": [
    {
     "data": {
      "text/html": [
       "<div>\n",
       "<style scoped>\n",
       "    .dataframe tbody tr th:only-of-type {\n",
       "        vertical-align: middle;\n",
       "    }\n",
       "\n",
       "    .dataframe tbody tr th {\n",
       "        vertical-align: top;\n",
       "    }\n",
       "\n",
       "    .dataframe thead th {\n",
       "        text-align: right;\n",
       "    }\n",
       "</style>\n",
       "<table border=\"1\" class=\"dataframe\">\n",
       "  <thead>\n",
       "    <tr style=\"text-align: right;\">\n",
       "      <th></th>\n",
       "      <th>date</th>\n",
       "      <th>group</th>\n",
       "      <th>visits</th>\n",
       "    </tr>\n",
       "  </thead>\n",
       "  <tbody>\n",
       "    <tr>\n",
       "      <th>55</th>\n",
       "      <td>2019-08-01</td>\n",
       "      <td>A</td>\n",
       "      <td>719</td>\n",
       "    </tr>\n",
       "    <tr>\n",
       "      <th>66</th>\n",
       "      <td>2019-08-01</td>\n",
       "      <td>B</td>\n",
       "      <td>713</td>\n",
       "    </tr>\n",
       "    <tr>\n",
       "      <th>175</th>\n",
       "      <td>2019-08-02</td>\n",
       "      <td>A</td>\n",
       "      <td>1338</td>\n",
       "    </tr>\n",
       "    <tr>\n",
       "      <th>173</th>\n",
       "      <td>2019-08-02</td>\n",
       "      <td>B</td>\n",
       "      <td>1294</td>\n",
       "    </tr>\n",
       "    <tr>\n",
       "      <th>291</th>\n",
       "      <td>2019-08-03</td>\n",
       "      <td>A</td>\n",
       "      <td>1845</td>\n",
       "    </tr>\n",
       "  </tbody>\n",
       "</table>\n",
       "</div>"
      ],
      "text/plain": [
       "          date group  visits\n",
       "55  2019-08-01     A     719\n",
       "66  2019-08-01     B     713\n",
       "175 2019-08-02     A    1338\n",
       "173 2019-08-02     B    1294\n",
       "291 2019-08-03     A    1845"
      ]
     },
     "execution_count": 32,
     "metadata": {},
     "output_type": "execute_result"
    }
   ],
   "source": [
    "# mengelompokkan data kumulatif harian agregat tentang pengunjung\n",
    "visitsAgg = datesGroups.apply(\n",
    "    lambda x: visits[np.logical_and(visits['date'] <= x['date'], visits['group'] == x['group'])].agg({\n",
    "        'date':'max',\n",
    "        'group':'max',\n",
    "        'visits':'sum'\n",
    "    }), axis=1).sort_values(by=['date','group'])\n",
    "\n",
    "visitsAgg.head()"
   ]
  },
  {
   "cell_type": "code",
   "execution_count": 33,
   "metadata": {},
   "outputs": [
    {
     "data": {
      "text/html": [
       "<div>\n",
       "<style scoped>\n",
       "    .dataframe tbody tr th:only-of-type {\n",
       "        vertical-align: middle;\n",
       "    }\n",
       "\n",
       "    .dataframe tbody tr th {\n",
       "        vertical-align: top;\n",
       "    }\n",
       "\n",
       "    .dataframe thead th {\n",
       "        text-align: right;\n",
       "    }\n",
       "</style>\n",
       "<table border=\"1\" class=\"dataframe\">\n",
       "  <thead>\n",
       "    <tr style=\"text-align: right;\">\n",
       "      <th></th>\n",
       "      <th>date</th>\n",
       "      <th>group</th>\n",
       "      <th>orders</th>\n",
       "      <th>buyers</th>\n",
       "      <th>revenue</th>\n",
       "      <th>visitors</th>\n",
       "    </tr>\n",
       "  </thead>\n",
       "  <tbody>\n",
       "    <tr>\n",
       "      <th>0</th>\n",
       "      <td>2019-08-01</td>\n",
       "      <td>A</td>\n",
       "      <td>23</td>\n",
       "      <td>19</td>\n",
       "      <td>2266.6</td>\n",
       "      <td>719</td>\n",
       "    </tr>\n",
       "    <tr>\n",
       "      <th>1</th>\n",
       "      <td>2019-08-01</td>\n",
       "      <td>B</td>\n",
       "      <td>17</td>\n",
       "      <td>17</td>\n",
       "      <td>967.2</td>\n",
       "      <td>713</td>\n",
       "    </tr>\n",
       "    <tr>\n",
       "      <th>2</th>\n",
       "      <td>2019-08-02</td>\n",
       "      <td>A</td>\n",
       "      <td>42</td>\n",
       "      <td>36</td>\n",
       "      <td>3734.9</td>\n",
       "      <td>1338</td>\n",
       "    </tr>\n",
       "    <tr>\n",
       "      <th>3</th>\n",
       "      <td>2019-08-02</td>\n",
       "      <td>B</td>\n",
       "      <td>40</td>\n",
       "      <td>39</td>\n",
       "      <td>3535.3</td>\n",
       "      <td>1294</td>\n",
       "    </tr>\n",
       "    <tr>\n",
       "      <th>4</th>\n",
       "      <td>2019-08-03</td>\n",
       "      <td>A</td>\n",
       "      <td>66</td>\n",
       "      <td>60</td>\n",
       "      <td>5550.1</td>\n",
       "      <td>1845</td>\n",
       "    </tr>\n",
       "  </tbody>\n",
       "</table>\n",
       "</div>"
      ],
      "text/plain": [
       "        date group  orders  buyers  revenue  visitors\n",
       "0 2019-08-01     A      23      19   2266.6       719\n",
       "1 2019-08-01     B      17      17    967.2       713\n",
       "2 2019-08-02     A      42      36   3734.9      1338\n",
       "3 2019-08-02     B      40      39   3535.3      1294\n",
       "4 2019-08-03     A      66      60   5550.1      1845"
      ]
     },
     "execution_count": 33,
     "metadata": {},
     "output_type": "execute_result"
    }
   ],
   "source": [
    "# menggabungkan kedua tabel di atas menjadi satu\n",
    "dataCumulative = ordersAgg.merge(visitsAgg, left_on=['date','group'], right_on=['date','group'])\n",
    "\n",
    "dataCumulative.columns = ['date','group','orders','buyers','revenue','visitors']\n",
    "\n",
    "dataCumulative.head()"
   ]
  },
  {
   "cell_type": "code",
   "execution_count": 34,
   "metadata": {},
   "outputs": [
    {
     "data": {
      "image/png": "[encoded data removed]",
      "text/plain": [
       "<Figure size 1400x800 with 1 Axes>"
      ]
     },
     "metadata": {},
     "output_type": "display_data"
    }
   ],
   "source": [
    "# membuat plot kumulatif pendapatan tiap grup\n",
    "cumRevA = dataCumulative[dataCumulative['group']=='A'][['date','revenue', 'orders']]\n",
    "cumRevB = dataCumulative[dataCumulative['group']=='B'][['date','revenue', 'orders']]\n",
    "\n",
    "plt.figure(figsize=(14, 8))\n",
    "sns.lineplot(data=cumRevA, x='date', y='revenue', label='A')\n",
    "sns.lineplot(data=cumRevB, x='date', y='revenue', label='B')\n",
    "plt.xlabel('Tanggal')\n",
    "plt.ylabel('Total Pendapatan')\n",
    "plt.title('Diagram Total Pendapatan')\n",
    "plt.xticks(rotation=45, ha='right')\n",
    "plt.legend() \n",
    "plt.show()"
   ]
  },
  {
   "cell_type": "markdown",
   "metadata": {},
   "source": [
    "Setelah diamati grafik di atas, dapat dipastikan bahwa kelompok uji grup B mengalami kenaikan yang signifikan. Akan tetapi, terdapat kejanggalan pada grup B. Hal ini dikarenakan adanya lonjakan yang signifikan pada tanggal 19 Agustus dibanding sebelumnya."
   ]
  },
  {
   "cell_type": "markdown",
   "metadata": {},
   "source": [
    "### Rata-rata Pembelian Kumulatif Berdasarkan Kelompok"
   ]
  },
  {
   "cell_type": "code",
   "execution_count": 35,
   "metadata": {},
   "outputs": [],
   "source": [
    "# menghitung rata-rata pembelian\n",
    "cumRevA['mean'] = cumRevA['revenue'] / cumRevA['orders']\n",
    "cumRevB['mean'] = cumRevB['revenue'] / cumRevB['orders']"
   ]
  },
  {
   "cell_type": "code",
   "execution_count": 36,
   "metadata": {},
   "outputs": [
    {
     "data": {
      "image/png": "[encoded data removed]",
      "text/plain": [
       "<Figure size 1400x800 with 1 Axes>"
      ]
     },
     "metadata": {},
     "output_type": "display_data"
    }
   ],
   "source": [
    "# membuat plot rata-rata pembelian\n",
    "plt.figure(figsize=(14, 8))\n",
    "sns.lineplot(data=cumRevA, x='date', y='mean', label='A')\n",
    "sns.lineplot(data=cumRevB, x='date', y='mean', label='B')\n",
    "plt.xlabel('Tanggal')\n",
    "plt.ylabel('Total Pendapatan')\n",
    "plt.title('Diagram Total Pendapatan')\n",
    "plt.xticks(rotation=45, ha='right')\n",
    "plt.legend() \n",
    "plt.show()"
   ]
  },
  {
   "cell_type": "markdown",
   "metadata": {},
   "source": [
    "Sama seperti grafik sebelumnya, kelompok uji grup B mengalami kenaikan secara signifikan selama bulan Agustus dibandingkan dengan kelompok uji grup A. Namun, masih terdapat lonjakan data yang sangat tinggi seperti grafik sebelumnya."
   ]
  },
  {
   "cell_type": "markdown",
   "metadata": {},
   "source": [
    "### Perbedaan Relatif Ukuran Rata-rata Pesanan "
   ]
  },
  {
   "cell_type": "code",
   "execution_count": 98,
   "metadata": {},
   "outputs": [
    {
     "data": {
      "text/html": [
       "<div>\n",
       "<style scoped>\n",
       "    .dataframe tbody tr th:only-of-type {\n",
       "        vertical-align: middle;\n",
       "    }\n",
       "\n",
       "    .dataframe tbody tr th {\n",
       "        vertical-align: top;\n",
       "    }\n",
       "\n",
       "    .dataframe thead th {\n",
       "        text-align: right;\n",
       "    }\n",
       "</style>\n",
       "<table border=\"1\" class=\"dataframe\">\n",
       "  <thead>\n",
       "    <tr style=\"text-align: right;\">\n",
       "      <th></th>\n",
       "      <th>date</th>\n",
       "      <th>revenueA</th>\n",
       "      <th>ordersA</th>\n",
       "      <th>meanA</th>\n",
       "      <th>revenueB</th>\n",
       "      <th>ordersB</th>\n",
       "      <th>meanB</th>\n",
       "    </tr>\n",
       "  </thead>\n",
       "  <tbody>\n",
       "    <tr>\n",
       "      <th>0</th>\n",
       "      <td>2019-08-01</td>\n",
       "      <td>2266.6</td>\n",
       "      <td>23</td>\n",
       "      <td>98.547826</td>\n",
       "      <td>967.2</td>\n",
       "      <td>17</td>\n",
       "      <td>56.894118</td>\n",
       "    </tr>\n",
       "    <tr>\n",
       "      <th>1</th>\n",
       "      <td>2019-08-02</td>\n",
       "      <td>3734.9</td>\n",
       "      <td>42</td>\n",
       "      <td>88.926190</td>\n",
       "      <td>3535.3</td>\n",
       "      <td>40</td>\n",
       "      <td>88.382500</td>\n",
       "    </tr>\n",
       "    <tr>\n",
       "      <th>2</th>\n",
       "      <td>2019-08-03</td>\n",
       "      <td>5550.1</td>\n",
       "      <td>66</td>\n",
       "      <td>84.092424</td>\n",
       "      <td>4606.9</td>\n",
       "      <td>54</td>\n",
       "      <td>85.312963</td>\n",
       "    </tr>\n",
       "    <tr>\n",
       "      <th>3</th>\n",
       "      <td>2019-08-04</td>\n",
       "      <td>6225.6</td>\n",
       "      <td>77</td>\n",
       "      <td>80.851948</td>\n",
       "      <td>6138.5</td>\n",
       "      <td>68</td>\n",
       "      <td>90.272059</td>\n",
       "    </tr>\n",
       "    <tr>\n",
       "      <th>4</th>\n",
       "      <td>2019-08-05</td>\n",
       "      <td>7623.6</td>\n",
       "      <td>99</td>\n",
       "      <td>77.006061</td>\n",
       "      <td>7587.8</td>\n",
       "      <td>89</td>\n",
       "      <td>85.256180</td>\n",
       "    </tr>\n",
       "  </tbody>\n",
       "</table>\n",
       "</div>"
      ],
      "text/plain": [
       "        date  revenueA  ordersA      meanA  revenueB  ordersB      meanB\n",
       "0 2019-08-01    2266.6       23  98.547826     967.2       17  56.894118\n",
       "1 2019-08-02    3734.9       42  88.926190    3535.3       40  88.382500\n",
       "2 2019-08-03    5550.1       66  84.092424    4606.9       54  85.312963\n",
       "3 2019-08-04    6225.6       77  80.851948    6138.5       68  90.272059\n",
       "4 2019-08-05    7623.6       99  77.006061    7587.8       89  85.256180"
      ]
     },
     "execution_count": 98,
     "metadata": {},
     "output_type": "execute_result"
    }
   ],
   "source": [
    "# menggabungkan data menjadi satu dataframe\n",
    "mergeCumRev = cumRevA.merge(\n",
    "    cumRevB, left_on='date', right_on='date', how='left', suffixes=['A', 'B']\n",
    ")\n",
    "mergeCumRev.head()"
   ]
  },
  {
   "cell_type": "code",
   "execution_count": 99,
   "metadata": {
    "scrolled": false
   },
   "outputs": [
    {
     "data": {
      "image/png": "[encoded data removed]",
      "text/plain": [
       "<Figure size 1008x576 with 1 Axes>"
      ]
     },
     "metadata": {},
     "output_type": "display_data"
    }
   ],
   "source": [
    "# membuat grafik perbedaan relatif  \n",
    "plt.figure(figsize=(14, 8))\n",
    "plt.plot(mergeCumRev['date'], (\n",
    "    mergeCumRev['revenueB']/mergeCumRev['ordersB']\n",
    "    )/(\n",
    "    mergeCumRev['revenueA']/mergeCumRev['ordersA']\n",
    "    )-1)\n",
    "plt.xlabel('Tanggal')\n",
    "plt.ylabel('Konversi Relatif')\n",
    "plt.title('Perbedaan Relatif Rata-rata Pesanan')\n",
    "plt.axhline(y=0, color='black', linestyle='--')\n",
    "plt.show()"
   ]
  },
  {
   "cell_type": "markdown",
   "metadata": {},
   "source": [
    "Sama seperti grafik sebelumnya, tingkat konversi grup B meningkat secara signifikan dan juga lonjakan tajam pada tanggal 19 Agustus. Sepertinya terdapat pencilan pada data."
   ]
  },
  {
   "cell_type": "markdown",
   "metadata": {},
   "source": [
    "### Konversi Kumulatif Berdasarkan Kelompok"
   ]
  },
  {
   "cell_type": "code",
   "execution_count": 100,
   "metadata": {},
   "outputs": [],
   "source": [
    "# menghitung konversi kumulatif berdasarkan kelompok\n",
    "dataCumulative['conversion'] = (dataCumulative['orders']/dataCumulative['visitors'])\n",
    "cumDataA = dataCumulative[dataCumulative['group']=='A']\n",
    "cumDataB = dataCumulative[dataCumulative['group']=='B']"
   ]
  },
  {
   "cell_type": "code",
   "execution_count": 101,
   "metadata": {},
   "outputs": [
    {
     "data": {
      "image/png": "[encoded data removed]",
      "text/plain": [
       "<Figure size 1008x576 with 1 Axes>"
      ]
     },
     "metadata": {},
     "output_type": "display_data"
    }
   ],
   "source": [
    "# membuat grafik konversi kumulatif\n",
    "plt.figure(figsize=(14, 8))\n",
    "sns.set(style=\"darkgrid\")\n",
    "sns.lineplot(data=cumDataA, x='date', y='conversion', label='A')\n",
    "sns.lineplot(data=cumDataB, x='date', y='conversion', label='B')\n",
    "plt.xlabel('Tanggal')\n",
    "plt.ylabel('Nilai Konversi')\n",
    "plt.title('Diagram Konversi Kumulatif Tiap Kelompok')\n",
    "plt.legend()\n",
    "plt.axis([pd.to_datetime('2019-08-01'), pd.to_datetime('2019-08-31'), 0, 0.05])\n",
    "plt.show()"
   ]
  },
  {
   "cell_type": "markdown",
   "metadata": {},
   "source": [
    "Plot diagram di atas terlihat simetris. Hal ini dapat terjadi karena adanya bug atau data yang tersedia tidak dapat dipercaya. Hal tersebut didukung dengan adanya lonjakan yang tajam pada tanggal 19 Agustus. Untuk mengatasi data dapat dipercaya atau tidak, perlu dilakukan uji statistik."
   ]
  },
  {
   "cell_type": "markdown",
   "metadata": {},
   "source": [
    "### Perbedaan Relatif Tingkat Konversi Kumulatif Berdasarkan Kelompok"
   ]
  },
  {
   "cell_type": "code",
   "execution_count": 102,
   "metadata": {
    "scrolled": false
   },
   "outputs": [
    {
     "data": {
      "image/png": "[encoded data removed]",
      "text/plain": [
       "<Figure size 1008x576 with 1 Axes>"
      ]
     },
     "metadata": {},
     "output_type": "display_data"
    }
   ],
   "source": [
    "mergCumConv = cumDataA[['date','conversion']].merge(\n",
    "    cumDataB[['date','conversion']], left_on='date', right_on='date', how='left', suffixes=['A', 'B'])\n",
    "\n",
    "plt.figure(figsize=(14, 8))\n",
    "plt.plot(\n",
    "    mergCumConv['date'],\n",
    "    mergCumConv['conversionB']/mergCumConv['conversionA']-1\n",
    ")\n",
    "plt.xlabel('Tanggal')\n",
    "plt.ylabel('Nilai Konversi')\n",
    "plt.title('Diagram Perbedaan Relatif Konversi Grup B')\n",
    "plt.axhline(y=0, color='black', linestyle='--')\n",
    "plt.axhline(y=0.2, color='grey', linestyle='--')\n",
    "plt.axis([pd.to_datetime('2019-08-01'), pd.to_datetime('2019-08-31'), -0.5, 0.5])\n",
    "plt.show()"
   ]
  },
  {
   "cell_type": "markdown",
   "metadata": {},
   "source": [
    "Pada grafik di atas dapat disimpulkan bahwa kelompok uji grup B awalnya sangat rendah. Namun, pada hari berikutnya dan seterusnya kelompok ini meningkat secara signifikan. Meski begitu, grafik di atas dinilai tidak stabil dikarenakan plot yang mengalami kenaikan dan penurunan berulang. Hal ini menunjukkan bahwa terdapat anomali pada data."
   ]
  },
  {
   "cell_type": "markdown",
   "metadata": {},
   "source": [
    "### Pesanan Tiap Pengguna\n",
    "Setelah diketahui adanya anomali pada data, saatnya untuk melihat metrik-metrik yang menjadikan data tidak dapat dipercaya."
   ]
  },
  {
   "cell_type": "code",
   "execution_count": 103,
   "metadata": {},
   "outputs": [
    {
     "data": {
      "text/html": [
       "<div>\n",
       "<style scoped>\n",
       "    .dataframe tbody tr th:only-of-type {\n",
       "        vertical-align: middle;\n",
       "    }\n",
       "\n",
       "    .dataframe tbody tr th {\n",
       "        vertical-align: top;\n",
       "    }\n",
       "\n",
       "    .dataframe thead th {\n",
       "        text-align: right;\n",
       "    }\n",
       "</style>\n",
       "<table border=\"1\" class=\"dataframe\">\n",
       "  <thead>\n",
       "    <tr style=\"text-align: right;\">\n",
       "      <th></th>\n",
       "      <th>userId</th>\n",
       "      <th>orders</th>\n",
       "    </tr>\n",
       "  </thead>\n",
       "  <tbody>\n",
       "    <tr>\n",
       "      <th>908</th>\n",
       "      <td>3967698036</td>\n",
       "      <td>3</td>\n",
       "    </tr>\n",
       "    <tr>\n",
       "      <th>55</th>\n",
       "      <td>249864742</td>\n",
       "      <td>3</td>\n",
       "    </tr>\n",
       "    <tr>\n",
       "      <th>478</th>\n",
       "      <td>2108163459</td>\n",
       "      <td>3</td>\n",
       "    </tr>\n",
       "    <tr>\n",
       "      <th>687</th>\n",
       "      <td>2988190573</td>\n",
       "      <td>3</td>\n",
       "    </tr>\n",
       "    <tr>\n",
       "      <th>890</th>\n",
       "      <td>3908431265</td>\n",
       "      <td>3</td>\n",
       "    </tr>\n",
       "  </tbody>\n",
       "</table>\n",
       "</div>"
      ],
      "text/plain": [
       "         userId  orders\n",
       "908  3967698036       3\n",
       "55    249864742       3\n",
       "478  2108163459       3\n",
       "687  2988190573       3\n",
       "890  3908431265       3"
      ]
     },
     "execution_count": 103,
     "metadata": {},
     "output_type": "execute_result"
    }
   ],
   "source": [
    "# menghitung jumlah pesanan tiap hari berdasarkan kelompok\n",
    "ordersUsers = (\n",
    "    orders.drop(['group', 'revenue', 'date'], axis=1)\n",
    "    .groupby('userId', as_index=False)\n",
    "    .agg({'orderId' : pd.Series.nunique})\n",
    ")\n",
    "\n",
    "ordersUsers.columns = ['userId','orders']  \n",
    "ordersUsers.sort_values(by='orders', ascending=False).head()"
   ]
  },
  {
   "cell_type": "code",
   "execution_count": 104,
   "metadata": {},
   "outputs": [
    {
     "data": {
      "image/png": "[encoded data removed]",
      "text/plain": [
       "<Figure size 1008x576 with 1 Axes>"
      ]
     },
     "metadata": {},
     "output_type": "display_data"
    }
   ],
   "source": [
    "# membuat grafik jumlah pesanan tiap pengguna\n",
    "x_values = pd.Series(range(0,len(ordersUsers)))\n",
    "\n",
    "plt.figure(figsize=(14, 8))\n",
    "plt.scatter(x_values, ordersUsers['orders']) \n",
    "plt.xlabel('User')\n",
    "plt.ylabel('Jumlah Pembelian')\n",
    "plt.title('Diagram Pesanan Tiap Pengguna')\n",
    "plt.show()"
   ]
  },
  {
   "cell_type": "markdown",
   "metadata": {},
   "source": [
    "Bisa dilihat pada grafik di atas bahwa sebagian besar user melakukan pembelian sebanyak 1 kali. Namun ada beberapa user yang melakukan pembelian sebanyak 2 sampai 3 kali. Hal ini menunjukkan adanya pencilan pada data."
   ]
  },
  {
   "cell_type": "markdown",
   "metadata": {},
   "source": [
    "### Anomali Data Jumlah Pesanan \n",
    "Sekarang saatnya untuk menghitung batas signifikansi data jumlah pesanan. Hal ini dapat dicari dengan menggunakan persentil ke-95 dan ke-99."
   ]
  },
  {
   "cell_type": "code",
   "execution_count": 105,
   "metadata": {},
   "outputs": [
    {
     "data": {
      "text/plain": [
       "array([1., 2.])"
      ]
     },
     "execution_count": 105,
     "metadata": {},
     "output_type": "execute_result"
    }
   ],
   "source": [
    "# menghitung batas signifikansi\n",
    "np.percentile(ordersUsers['orders'], [95, 99])"
   ]
  },
  {
   "cell_type": "markdown",
   "metadata": {},
   "source": [
    "Seperti yang telah diduga, batas signifikansi 95% dan 99% berturut-turut yaitu pengguna yang melakukan 1 kali pembelian dan 2 kali pembelian."
   ]
  },
  {
   "cell_type": "markdown",
   "metadata": {},
   "source": [
    "### Distribusi Harga Pesanan\n",
    "Setelah melihat jumlah pesanan, sekarang saatnya untuk mengamati data jumlah pendapatan tiap pengguna."
   ]
  },
  {
   "cell_type": "code",
   "execution_count": 106,
   "metadata": {
    "scrolled": false
   },
   "outputs": [
    {
     "data": {
      "image/png": "[encoded data removed]",
      "text/plain": [
       "<Figure size 1008x576 with 1 Axes>"
      ]
     },
     "metadata": {},
     "output_type": "display_data"
    }
   ],
   "source": [
    "# membuat grafik jumlah pendapatan tiap pengguna\n",
    "xRev = pd.Series(range(0,len(orders['revenue'])))\n",
    "\n",
    "plt.figure(figsize=(14, 8))\n",
    "plt.scatter(xRev, orders['revenue']) \n",
    "plt.xlabel('User')\n",
    "plt.ylabel('Jumlah Pendapatan')\n",
    "plt.title('Diagram Pendapatan Tiap Pengguna')\n",
    "plt.show()"
   ]
  },
  {
   "cell_type": "markdown",
   "metadata": {},
   "source": [
    "Hal yang menjadi pusat perhatian yaitu pendapatan pesanan seorang pengguna dengan jumlah sekitar USD 20000. Namun sebagian besar pengguna melakukan pembelian dibawah USD 2000."
   ]
  },
  {
   "cell_type": "markdown",
   "metadata": {},
   "source": [
    "### Anomali Data Jumlah Pendapatan\n",
    "Sekarang saatnya untuk menghitung batas signifikansi data pendapatan tiap pengguna."
   ]
  },
  {
   "cell_type": "code",
   "execution_count": 107,
   "metadata": {},
   "outputs": [
    {
     "data": {
      "text/plain": [
       "array([414.275, 830.3  ])"
      ]
     },
     "execution_count": 107,
     "metadata": {},
     "output_type": "execute_result"
    }
   ],
   "source": [
    "# menghitung batas signifikansi\n",
    "np.percentile(orders['revenue'], [95, 99])"
   ]
  },
  {
   "cell_type": "markdown",
   "metadata": {},
   "source": [
    "Rupanya, batas signifikansi 95% yaitu sekitar USD 414 dan 99% sekitar USD 830. Setelah didapat kedua nilai batas signifikansi pada data jumlah pesanan dan jumlah pendapatan, maka data sebelumnya dapat difilter dengan batas signifikansi yang barus saja dihitung."
   ]
  },
  {
   "cell_type": "markdown",
   "metadata": {},
   "source": [
    "### Uji Signifikansi Statistik Konversi Tiap Kelompok\n",
    "Sebelum memfilter data, sebaikanya dilakukan langkah pengujian terhadap data yang belum difilter. Pengujian yang dilakukan yaitu pengujian Mann-Whitney. Pengujian ini bertujuan untuk menguji apakah data yang dilakukan uji terdapat perbedaan yang signifikan dari data sebelumnya."
   ]
  },
  {
   "cell_type": "code",
   "execution_count": 108,
   "metadata": {},
   "outputs": [],
   "source": [
    "# mengelompokkan data pesanan tiap kelompok\n",
    "orderUserA = orders[orders['group']=='A'].groupby('userId', as_index=False).agg({'orderId' : pd.Series.nunique})\n",
    "orderUserA.columns = ['userId', 'orders']\n",
    "\n",
    "orderUserB = orders[orders['group']=='B'].groupby('userId', as_index=False).agg({'orderId' : pd.Series.nunique})\n",
    "orderUserB.columns = ['userId', 'orders'] "
   ]
  },
  {
   "cell_type": "code",
   "execution_count": 109,
   "metadata": {},
   "outputs": [],
   "source": [
    "# mengelompokkan data pesanan tiap kelompok\n",
    "sampleA = pd.concat([orderUserA['orders'],\n",
    "                     pd.Series(0, index=np.arange(\n",
    "                         visits[visits['group']=='A']['visits'].sum() - len(orderUserA['orders'])\n",
    "                     ), name='orders')],axis=0)\n",
    "\n",
    "sampleB = pd.concat([orderUserB['orders'],\n",
    "                     pd.Series(0, index=np.arange(\n",
    "                         visits[visits['group']=='B']['visits'].sum() - len(orderUserB['orders'])\n",
    "                     ), name='orders')],axis=0)"
   ]
  },
  {
   "cell_type": "markdown",
   "metadata": {},
   "source": [
    "Sebelum melakukan uji, alpha ditentukan menjadi 5%. Dengan rincian hipotesis:\n",
    "- Hipotesis 0 : Tidak terdapat perbedaan yang signifikan\n",
    "- Hipotesis Alternatif : Terdapat perbedaan yang signifikan"
   ]
  },
  {
   "cell_type": "code",
   "execution_count": 110,
   "metadata": {},
   "outputs": [
    {
     "name": "stdout",
     "output_type": "stream",
     "text": [
      "p-value:  0.011\n",
      "Hipotesis nol ditolak: Terdapat perbedaan statistik yang siginifikan\n",
      "Konversi relatif untuk grup B:  0.160\n"
     ]
    }
   ],
   "source": [
    "# menguji hipotesis mann-whitney\n",
    "alpha = 0.05\n",
    "resultConvers = st.mannwhitneyu(sampleA, sampleB)\n",
    "print('p-value: ', resultConvers.pvalue.round(3))\n",
    "\n",
    "if (resultConvers.pvalue < alpha):\n",
    "    print(\"Hipotesis nol ditolak: Terdapat perbedaan statistik yang siginifikan\")\n",
    "else:\n",
    "    print(\"Hipotesis nol diterima: Tidak terdapat perbedaan statistik\")\n",
    "    \n",
    "print('Konversi relatif untuk grup B: ','{0:.3f}'.format(sampleB.mean() / sampleA.mean() - 1))"
   ]
  },
  {
   "cell_type": "markdown",
   "metadata": {},
   "source": [
    "Hasil dari pengujian di atas menunjukkan bahwa terdapat perbedaan statistik yang signifikan, oleh karena itu hipotesis nol ditolak."
   ]
  },
  {
   "cell_type": "markdown",
   "metadata": {},
   "source": [
    "### Uji Signifikansi Statistik Ukuran Pesanan Tiap Kelompok\n",
    "Sekarang saatnya untuk menguji ukuran pesanan."
   ]
  },
  {
   "cell_type": "code",
   "execution_count": 111,
   "metadata": {},
   "outputs": [
    {
     "name": "stdout",
     "output_type": "stream",
     "text": [
      "p-value:  0.862\n",
      "Hipotesis nol diterima: Tidak terdapat perbedaan statistik\n",
      "Pesanan relatif untuk grup B:  0.278\n"
     ]
    }
   ],
   "source": [
    "# menguji hipotesis mann_whitney\n",
    "resultOrders = st.mannwhitneyu(orders[orders['group']=='A']['revenue'], orders[orders['group']=='B']['revenue'])\n",
    "print('p-value: ', resultOrders.pvalue.round(3))\n",
    "\n",
    "if (resultOrders.pvalue < alpha):\n",
    "    print(\"Hipotesis nol ditolak: Terdapat perbedaan statistik yang siginifikan\")\n",
    "else:\n",
    "    print(\"Hipotesis nol diterima: Tidak terdapat perbedaan statistik\")\n",
    "    \n",
    "print('Pesanan relatif untuk grup B: ','{0:.3f}'\n",
    "      .format(orders[orders['group']=='B']['revenue']\n",
    "              .mean()/orders[orders['group']=='A']['revenue'].mean()-1))"
   ]
  },
  {
   "cell_type": "markdown",
   "metadata": {},
   "source": [
    "Berbeda dengan pengujian sebelumnya, hasil pengujian terhadap pendapatan tiap kelompok tidak terdapat perbedaan secara statistik, oleh karena itu hipotesis nol diterima. "
   ]
  },
  {
   "cell_type": "markdown",
   "metadata": {},
   "source": [
    "### Uji Signifikansi Statistik Konversi Tiap Kelompok Data Terfilter\n",
    "Setelah melakukan uji pada data yang belum difilter, sekarang waktunya untuk melakukan pengujian pada data yang telah difilter dari pencilan."
   ]
  },
  {
   "cell_type": "code",
   "execution_count": 112,
   "metadata": {},
   "outputs": [
    {
     "data": {
      "text/plain": [
       "36"
      ]
     },
     "execution_count": 112,
     "metadata": {},
     "output_type": "execute_result"
    }
   ],
   "source": [
    "# mengelompokkan pengguna yang melakukan pembelian lebih dari 1\n",
    "usersWithManyOrders = pd.concat(\n",
    "    [\n",
    "        orderUserA[orderUserA['orders'] > 1]['userId'],\n",
    "        orderUserB[orderUserB['orders'] > 1]['userId'],\n",
    "    ],\n",
    "    axis=0,\n",
    ")\n",
    "len(usersWithManyOrders)"
   ]
  },
  {
   "cell_type": "code",
   "execution_count": 113,
   "metadata": {},
   "outputs": [
    {
     "data": {
      "text/plain": [
       "51"
      ]
     },
     "execution_count": 113,
     "metadata": {},
     "output_type": "execute_result"
    }
   ],
   "source": [
    "# mengelompokkan pengguna yang melakukan pembelian dengan harga lebih dari 414\n",
    "usersWithExpensiveOrders = orders[orders['revenue'] > 414]['userId']\n",
    "len(usersWithExpensiveOrders)"
   ]
  },
  {
   "cell_type": "code",
   "execution_count": 114,
   "metadata": {},
   "outputs": [
    {
     "data": {
      "text/plain": [
       "86"
      ]
     },
     "execution_count": 114,
     "metadata": {},
     "output_type": "execute_result"
    }
   ],
   "source": [
    "# menggabungkan data-data pengguna yang abnormal\n",
    "abnormalUsers = (\n",
    "    pd.concat([usersWithManyOrders, usersWithExpensiveOrders], axis=0)\n",
    "    .drop_duplicates()\n",
    "    .sort_values()\n",
    ")\n",
    "len(abnormalUsers)"
   ]
  },
  {
   "cell_type": "markdown",
   "metadata": {},
   "source": [
    "Rupanya ada 86 pengguna yang tidak normal atau bisa dibilang sebagai outlier data yang menyebabkan data tidak dapat dipercaya. Sekarang waktunya untuk memfilter datanya."
   ]
  },
  {
   "cell_type": "code",
   "execution_count": 115,
   "metadata": {},
   "outputs": [],
   "source": [
    "# memfilter data dari data abnormal\n",
    "sampleAFinal = pd.concat(\n",
    "    [\n",
    "        orderUserA[np.logical_not(orderUserA['userId'].isin(abnormalUsers))]['orders'],\n",
    "        pd.Series(0, index=np.arange(visits[visits['group']=='A']['visits'].sum() - len(orderUserA['orders'])),\n",
    "                  name='orders')\n",
    "    ],axis=0)\n",
    "\n",
    "sampleBFinal = pd.concat(\n",
    "    [\n",
    "        orderUserB[np.logical_not(orderUserB['userId'].isin(abnormalUsers))]['orders'],\n",
    "        pd.Series(0, index=np.arange(visits[visits['group']=='B']['visits'].sum() - len(orderUserB['orders'])),\n",
    "                  name='orders')\n",
    "    ],axis=0) \n"
   ]
  },
  {
   "cell_type": "code",
   "execution_count": 116,
   "metadata": {},
   "outputs": [
    {
     "name": "stdout",
     "output_type": "stream",
     "text": [
      "p-value:  0.016\n",
      "Hipotesis nol ditolak: Terdapat perbedaan statistik yang siginifikan\n",
      "Konversi relatif untuk grup B:  0.174\n"
     ]
    }
   ],
   "source": [
    "# melakukan pengujian mann-whitney\n",
    "resultFinalConvers = st.mannwhitneyu(sampleAFinal, sampleBFinal)\n",
    "print('p-value: ', resultFinalConvers.pvalue.round(3))\n",
    "\n",
    "if (resultFinalConvers.pvalue < alpha):\n",
    "    print(\"Hipotesis nol ditolak: Terdapat perbedaan statistik yang siginifikan\")\n",
    "else:\n",
    "    print(\"Hipotesis nol diterima: Tidak terdapat perbedaan statistik\")\n",
    "    \n",
    "print('Konversi relatif untuk grup B: ','{0:.3f}'.format(sampleBFinal.mean() / sampleAFinal.mean() - 1))"
   ]
  },
  {
   "cell_type": "markdown",
   "metadata": {},
   "source": [
    "Setelah dilakukan pengujian pada data terbaru, hasilnya menunjukkan bahwa terdapat perbedaan statistik yang signifikan pada kelompok uji grup B sehingga hipotesis nol ditolak."
   ]
  },
  {
   "cell_type": "markdown",
   "metadata": {},
   "source": [
    "### Uji Signifikansi Statistik Ukuran Pesanan Data Terfilter\n",
    "Sekarang saatnya untuk melakukan pengujian terakhir yaitu pengujian terhadap pendapatan tiap pengguna yang telah difilter."
   ]
  },
  {
   "cell_type": "code",
   "execution_count": 117,
   "metadata": {},
   "outputs": [],
   "source": [
    "# mengelompokkan data pembelian terbaru\n",
    "final_orderA = orders[np.logical_and(\n",
    "        orders['group']=='A',\n",
    "        np.logical_not(orders['userId'].isin(abnormalUsers)))]['revenue']\n",
    "final_orderB = orders[np.logical_and(\n",
    "        orders['group']=='B',\n",
    "        np.logical_not(orders['userId'].isin(abnormalUsers)))]['revenue']"
   ]
  },
  {
   "cell_type": "code",
   "execution_count": 118,
   "metadata": {},
   "outputs": [
    {
     "name": "stdout",
     "output_type": "stream",
     "text": [
      "p-value:  0.771\n",
      "Hipotesis nol diterima: Tidak terdapat perbedaan statistik\n",
      "Pesanan relatif untuk grup B:  -0.033\n"
     ]
    }
   ],
   "source": [
    "# pengujian mann-whitney pada data terbaru\n",
    "resultFinalOrders = st.mannwhitneyu(final_orderA, final_orderB)\n",
    "print('p-value: ', resultFinalOrders.pvalue.round(3))\n",
    "\n",
    "if (resultFinalOrders.pvalue < alpha):\n",
    "    print(\"Hipotesis nol ditolak: Terdapat perbedaan statistik yang siginifikan\")\n",
    "else:\n",
    "    print(\"Hipotesis nol diterima: Tidak terdapat perbedaan statistik\")\n",
    "    \n",
    "print('Pesanan relatif untuk grup B: ','{0:.3f}'\n",
    "      .format(final_orderB.mean()/final_orderA.mean()-1))"
   ]
  },
  {
   "cell_type": "markdown",
   "metadata": {},
   "source": [
    "Hasilnya menunjukkan bahwa tidak terdapat perbedaan statistik sehingga hipotesis nol diterima. Ukuran relatifnya pun turun 3% dari 26%."
   ]
  },
  {
   "cell_type": "markdown",
   "metadata": {},
   "source": [
    "## Kesimpulan Umum\n",
    "Kesimpulan dari analisis A/B Testing yang telah dilakukan yaitu:\n",
    "- Dalam hal konversi, terdapat perbedaan statistik yang signifikan antara kelompok uji grup A dan B. Konversi relatif untuk grup B adalah 16% lebih tinggi daripada grup A setelah memfilter data pencilan.\n",
    "- Namun, dalam hal ukuran pesanan rata-rata atau pendapatan, tidak terdapat perbedaan statistik yang signifikan antara kedua kelompok setelah memfilter data pencilan. Ukuran relatifnya turun 3% dari 26% setelah memfilter data.\n",
    "- Ukuran pesanan rata-rata tidak menunjukkan perbedaan statistik yang signifikan setelah memfilter data.\n",
    "- Terdapat perbedaan statistik yang signifikan dalam konversi antara kedua kelompok, tetapi tidak ada perbedaan statistik dalam ukuran pesanan rata-rata.\n",
    "- melanjutkan pengujian untuk mengumpulkan lebih banyak data dan memahami lebih lanjut tentang perubahan yang terjadi pada kelompok B pada tanggal 19 Agustus.\n",
    "\n",
    "\n",
    "## Rekomendasi Bisnis\n",
    "Maka keputusan bisnis yang diambil yaitu: \n",
    "\n",
    "Menghentikan pengujian, serta mempertimbangkan salah satu kelompok sebagai pemimpin. Hal ini didasari oleh:\n",
    "- Analisis menunjukkan bahwa tidak ada perbedaan statistik yang signifikan antara kedua kelompok dalam hal ukuran pesanan rata-rata, yang merupakan salah satu faktor yang memengaruhi pendapatan.\n",
    "- Namun, dalam hal konversi, terdapat perbedaan statistik yang signifikan antara kedua kelompok, dengan konversi relatif untuk grup B sekitar 16% lebih tinggi setelah memfilter data pencilan.\n",
    "- Meningkatkan konversi dapat berdampak positif pada pendapatan, dan oleh karena itu perlu untuk mengadopsi strategi atau fitur yang telah diuji dalam kelompok B untuk diterapkan secara lebih luas.\n",
    "\n",
    "Adapun rekomendasi yang dapat dilakukan yaitu:\n",
    "- Fokus utama sebaiknya diarahkan pada peningkatan konversi. Karena peningkatan konversi secara langsung berpotensi meningkatkan pendapatan meskipun ukuran pesanan rata-rata tidak berubah.\n",
    "- Implementasikan fitur atau strategi yang diterapkan pada grup B ke dalam operasional secara lebih luas untuk memaksimalkan potensi peningkatan konversi.\n",
    "- Melakukan pemantauan secara berkelanjutan terhadap performa konversi dan faktor-faktor pendukung, terutama mengamati kejadian atau perubahan yang terjadi pada tanggal 19 Agustus.\n",
    "- Mengumpulkan data tambahan untuk memastikan bahwa peningkatan konversi di grup B konsisten dalam jangka panjang dan tidak dipengaruhi oleh faktor sementara atau eksternal.\n",
    "- Menggunakan insight dari pengujian ini untuk mengoptimalkan kampanye pemasaran, misalnya dengan menyesuaikan pesan, penawaran, atau fitur-fitur yang telah terbukti meningkatkan konversi.\n",
    "\n",
    "Dengan langkah-langkah tersebut, perusahaan dapat memanfaatkan keunggulan strategi grup B untuk mendorong pertumbuhan pendapatan melalui peningkatan konversi, sembari terus memantau dan menyesuaikan strategi berdasarkan data terbaru."
   ]
  },
  {
   "cell_type": "code",
   "execution_count": null,
   "metadata": {},
   "outputs": [],
   "source": []
  }
 ],
 "metadata": {
  "kernelspec": {
   "display_name": "Python 3 (ipykernel)",
   "language": "python",
   "name": "python3"
  },
  "language_info": {
   "codemirror_mode": {
    "name": "ipython",
    "version": 3
   },
   "file_extension": ".py",
   "mimetype": "text/x-python",
   "name": "python",
   "nbconvert_exporter": "python",
   "pygments_lexer": "ipython3",
   "version": "3.10.9"
  },
  "toc": {
   "base_numbering": 1,
   "nav_menu": {},
   "number_sections": true,
   "sideBar": true,
   "skip_h1_title": true,
   "title_cell": "Table of Contents",
   "title_sidebar": "Contents",
   "toc_cell": false,
   "toc_position": {},
   "toc_section_display": true,
   "toc_window_display": false
  }
 },
 "nbformat": 4,
 "nbformat_minor": 2
}
